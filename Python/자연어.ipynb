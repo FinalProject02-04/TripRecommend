{
 "cells": [
  {
   "cell_type": "code",
   "execution_count": 59,
   "metadata": {},
   "outputs": [],
   "source": [
    "import nltk\n",
    "import matplotlib.pyplot as plt\n",
    "import platform\n",
    "from matplotlib import font_manager, rc\n",
    "\n",
    "plt.rcParams['axes.unicode_minus'] = False\n",
    "\n",
    "if platform.system() == 'Darwin':\n",
    "    rc('font', family='AppleGothic') # os가 macos\n",
    "else:\n",
    "    print(\"Unknown System\")"
   ]
  },
  {
   "cell_type": "code",
   "execution_count": 60,
   "metadata": {},
   "outputs": [],
   "source": [
    "import pandas as pd\n",
    "from konlpy.tag import Okt\n",
    "t = Okt()\n",
    "\n",
    "from sklearn.metrics.pairwise import cosine_similarity\n",
    "from sklearn.feature_extraction.text import TfidfVectorizer"
   ]
  },
  {
   "cell_type": "code",
   "execution_count": 61,
   "metadata": {},
   "outputs": [],
   "source": [
    "df = pd.read_csv(\"./data/구석구석_서울_크롤링_imageurl.csv\")\n",
    "text_df = df[['장소명', '한줄설명', '상세설명','리뷰']]\n",
    "\n",
    "text_df = text_df.drop_duplicates()"
   ]
  },
  {
   "cell_type": "code",
   "execution_count": 62,
   "metadata": {},
   "outputs": [],
   "source": [
    "# 불용어\n",
    "stop_word = [\n",
    "    ' ',',','.','등','수','이요','요','번','앞','곳','집','류','모','봉','돌','호선','객','부','콩','겸','그','위','계','무','안','눈','방','이','팅',\n",
    "    '비','통','석','개','세','순','외','점','전','것','두','나','옥','내','역','과','뿐','이류','찰','더','여','년','로','층','차','종','배','중','몽',\n",
    "    '도','날','널','때','꼭','및','볼','후','룸','의','실','또','제','온','를','터','인','탕','총','각','명','저','리','처','존','뜻','이자','움','입',\n",
    "    '게','좀','데','기','만','용','초','몸','핫','거','넉','끼','단','접','호','창','난','칸','스','또한','듯','때문','린','오','시','은','함','적','샷',\n",
    "    '이후','마치','가도','원','임','이제','얼마','밍','재','란','송','거나','구','중이','늘','감','앤','변','목','대해','근대','운','널리','곳도','가끔',\n",
    "    '주','걸','장','상','이외','통해','얼','유','사','도량','갓','너','고기구'\n",
    "]"
   ]
  },
  {
   "cell_type": "code",
   "execution_count": 63,
   "metadata": {},
   "outputs": [],
   "source": [
    "# from konlpy.corpus import kolaw\n",
    "# import matplotlib.pyplot as plt\n",
    "# from wordcloud import WordCloud\n",
    "# import nltk\n",
    "\n",
    "# # 상위 500개 word cloud 그리기\n",
    "# ko = nltk.Text(token)\n",
    "# data = ko.vocab().most_common(500)\n",
    "# tmp_data = dict(data)\n",
    "\n",
    "# wordcloud = WordCloud(\n",
    "#     background_color='white',\n",
    "#     relative_scaling=0.2,\n",
    "#     font_path='AppleGothic'\n",
    "# ).generate_from_frequencies(tmp_data)\n",
    "\n",
    "# plt.figure(figsize=(16,8))\n",
    "# plt.imshow(wordcloud, interpolation='bilinear')\n",
    "\n",
    "# plt.show()"
   ]
  },
  {
   "cell_type": "code",
   "execution_count": 64,
   "metadata": {},
   "outputs": [],
   "source": [
    "sent_arr = []\n",
    "\n",
    "for index in range(0, len(text_df)) :\n",
    "    text_df_one = text_df.iloc[index, :]\n",
    "    sentence = \"\"\n",
    "\n",
    "# ----------------------------------------\n",
    "\n",
    "    # 한줄설명이 null이 아닐때,\n",
    "    if ~text_df_one.isnull().한줄설명 :\n",
    "        sentence += text_df_one.한줄설명\n",
    "\n",
    "    # 상세설명이 null이 아닐때,\n",
    "    if ~text_df_one.isnull().상세설명 :\n",
    "        sentence += text_df_one.상세설명\n",
    "\n",
    "    # 리뷰가 null이 아닐때,\n",
    "    if ~text_df_one.isnull().리뷰 :\n",
    "        sentence += text_df_one.리뷰\n",
    "\n",
    "    # 토큰화\n",
    "    token = t.nouns(sentence)\n",
    "    # 불용어 제거\n",
    "    temp = [word for word in token if word not in stop_word]\n",
    "    # 정제된 토큰들로 다시 문장화\n",
    "    sent_arr.append(temp)"
   ]
  },
  {
   "cell_type": "code",
   "execution_count": 65,
   "metadata": {},
   "outputs": [],
   "source": [
    "# input_text = \"가족들이랑 가기 좋은 강남구 근처 피자집\"\n",
    "\n",
    "# token = t.nouns(input_text)\n",
    "# temp = [word for word in token if word not in stop_word]\n",
    "\n",
    "# sent_arr.insert(0, temp)"
   ]
  },
  {
   "cell_type": "code",
   "execution_count": 66,
   "metadata": {},
   "outputs": [],
   "source": [
    "# result = []\n",
    "# result_dict = {}\n",
    "# find_arr = []\n",
    "\n",
    "# for data in x :\n",
    "#     result.append(cosine_similarity(x[0], data))\n",
    "\n",
    "# for index, data in enumerate(result) :\n",
    "#     result_dict[index] = data[0][0]\n",
    "\n",
    "#     # find_arr.append(f\"{index} : {data[0][0]}\")\n",
    "\n",
    "# find = sorted(result_dict.values(), reverse=True)[:10]\n",
    "\n",
    "# find_dict = {}\n",
    "# for i,data in enumerate(result_dict.values()) :\n",
    "#     find_dict[data] = i\n",
    "\n",
    "\n",
    "# find_key = []\n",
    "# for value in find :\n",
    "#     find_key.append(find_dict[value])\n",
    "\n",
    "# for i in find_key :\n",
    "#     print(df.loc[i,'장소명'])"
   ]
  },
  {
   "cell_type": "code",
   "execution_count": 67,
   "metadata": {},
   "outputs": [
    {
     "name": "stdout",
     "output_type": "stream",
     "text": [
      "문장의 최대 길이 : 1255\n",
      "문장의 평균 길이 : 75.18988902589396\n"
     ]
    },
    {
     "data": {
      "image/png": "[encoded data removed]",
      "text/plain": [
       "<Figure size 640x480 with 1 Axes>"
      ]
     },
     "metadata": {},
     "output_type": "display_data"
    }
   ],
   "source": [
    "# 길이 분포 확인\n",
    "print('문장의 최대 길이 :',max(len(review) for review in sent_arr))\n",
    "print('문장의 평균 길이 :',sum(map(len, sent_arr))/len(sent_arr))\n",
    "\n",
    "plt.hist([len(review) for review in sent_arr], bins=50)\n",
    "\n",
    "plt.xlabel('length of samples')\n",
    "plt.ylabel('number of samples')\n",
    "\n",
    "plt.show()"
   ]
  },
  {
   "cell_type": "code",
   "execution_count": 68,
   "metadata": {},
   "outputs": [],
   "source": [
    "from gensim.models import Word2Vec\n",
    "\n",
    "model = Word2Vec(sentences = sent_arr, vector_size = 100, window = 5, min_count = 0, workers = 4, sg = 0, epochs=10)\n",
    "\n",
    "w2v_dict = model.wv.key_to_index\n",
    "\n",
    "w2v_arr = []\n",
    "for sent_arr_value in sent_arr :\n",
    "    w2v_temp = []\n",
    "    for value in sent_arr_value :\n",
    "        w2v_temp.append(w2v_dict[value])\n",
    "        # if value in w2v_dict:\n",
    "        #     w2v_temp.append(w2v_dict[value])\n",
    "        # else:\n",
    "        #     w2v_temp.append(-1)  # 없는 단어를 -1로 표시하거나 다른 값으로 대체\n",
    "\n",
    "    w2v_arr.append(w2v_temp)"
   ]
  },
  {
   "cell_type": "code",
   "execution_count": 69,
   "metadata": {},
   "outputs": [
    {
     "name": "stdout",
     "output_type": "stream",
     "text": [
      "21101\n",
      "0\n"
     ]
    }
   ],
   "source": [
    "print(max([max(i) for i in w2v_arr]))\n",
    "print(min([min(i) for i in w2v_arr]))"
   ]
  },
  {
   "cell_type": "markdown",
   "metadata": {},
   "source": [
    "최대값 : 21101 <br>\n",
    "최소값 : 0"
   ]
  },
  {
   "cell_type": "code",
   "execution_count": 70,
   "metadata": {},
   "outputs": [],
   "source": [
    "# 정규화\n",
    "w2v_scaled = []\n",
    "for v in w2v_arr :\n",
    "    temp_arr = []\n",
    "    for data in v :\n",
    "        temp_arr.append(data / 21101)\n",
    "    w2v_scaled.append(temp_arr)"
   ]
  },
  {
   "cell_type": "code",
   "execution_count": 71,
   "metadata": {},
   "outputs": [
    {
     "data": {
      "text/plain": [
       "1255"
      ]
     },
     "execution_count": 71,
     "metadata": {},
     "output_type": "execute_result"
    }
   ],
   "source": [
    "# 한 문장의 최대 길이\n",
    "max_len = max([len(x) for x in w2v_scaled])\n",
    "max_len"
   ]
  },
  {
   "cell_type": "code",
   "execution_count": 72,
   "metadata": {},
   "outputs": [],
   "source": [
    "import numpy as np"
   ]
  },
  {
   "cell_type": "code",
   "execution_count": 73,
   "metadata": {},
   "outputs": [],
   "source": [
    "# -1의 값으로 패딩 추가\n",
    "padded_sentences = []\n",
    "\n",
    "for i in w2v_scaled :\n",
    "    if len(i) < max_len :\n",
    "        i = i + [-1.0] * (max_len - len(i))\n",
    "    padded_sentences.append(i)\n",
    "\n",
    "pad_sent = np.array(padded_sentences)"
   ]
  },
  {
   "cell_type": "code",
   "execution_count": 74,
   "metadata": {},
   "outputs": [
    {
     "data": {
      "text/plain": [
       "(4055, 1255)"
      ]
     },
     "execution_count": 74,
     "metadata": {},
     "output_type": "execute_result"
    }
   ],
   "source": [
    "pad_sent.shape"
   ]
  },
  {
   "cell_type": "code",
   "execution_count": 75,
   "metadata": {},
   "outputs": [],
   "source": [
    "trd = pad_sent\n",
    "trt = np.array(text_df.장소명)"
   ]
  },
  {
   "cell_type": "code",
   "execution_count": 76,
   "metadata": {},
   "outputs": [
    {
     "data": {
      "text/plain": [
       "array(['한옥갈비', '일미간장게장본점', '향림사', ..., '오향족발', '이북만두', '미가할매집'],\n",
       "      dtype=object)"
      ]
     },
     "execution_count": 76,
     "metadata": {},
     "output_type": "execute_result"
    }
   ],
   "source": [
    "trt"
   ]
  },
  {
   "cell_type": "code",
   "execution_count": 88,
   "metadata": {},
   "outputs": [
    {
     "name": "stderr",
     "output_type": "stream",
     "text": [
      "/opt/anaconda3/lib/python3.11/site-packages/sklearn/preprocessing/_encoders.py:868: FutureWarning: `sparse` was renamed to `sparse_output` in version 1.2 and will be removed in 1.4. `sparse_output` is ignored unless you leave `sparse` to its default value.\n",
      "  warnings.warn(\n"
     ]
    }
   ],
   "source": [
    "from sklearn.preprocessing import LabelEncoder, OneHotEncoder\n",
    "\n",
    "# 가게 이름을 클래스 레이블(정수)로 변환\n",
    "label_encoder = LabelEncoder()\n",
    "y_train_encoded = label_encoder.fit_transform(text_df.장소명)  # y_train은 가게 이름을 포함한 타겟 데이터\n",
    "\n",
    "# 클래스 레이블을 원-핫 인코딩\n",
    "one_hot_encoder = OneHotEncoder(sparse=False)\n",
    "y_train_one_hot = one_hot_encoder.fit_transform(y_train_encoded.reshape(-1, 1))"
   ]
  },
  {
   "cell_type": "code",
   "execution_count": 89,
   "metadata": {},
   "outputs": [
    {
     "data": {
      "text/plain": [
       "(4055, 4039)"
      ]
     },
     "execution_count": 89,
     "metadata": {},
     "output_type": "execute_result"
    }
   ],
   "source": [
    "y_train_one_hot.shape"
   ]
  },
  {
   "cell_type": "code",
   "execution_count": null,
   "metadata": {},
   "outputs": [],
   "source": [
    "# trt = np.array(text_df.index)"
   ]
  },
  {
   "cell_type": "code",
   "execution_count": 80,
   "metadata": {},
   "outputs": [],
   "source": [
    "from sklearn.model_selection import train_test_split\n",
    "\n",
    "v_trd, vad, v_trt, vat = train_test_split(trd, trt, test_size=0.2)"
   ]
  },
  {
   "cell_type": "code",
   "execution_count": 81,
   "metadata": {},
   "outputs": [
    {
     "name": "stdout",
     "output_type": "stream",
     "text": [
      "(3244, 1255)\n",
      "(3244,)\n",
      "(811, 1255)\n",
      "(811,)\n"
     ]
    }
   ],
   "source": [
    "print(v_trd.shape) # 훈련 인풋\n",
    "print(v_trt.shape) # 훈련 타겟 \n",
    "\n",
    "print(vad.shape) # 검증 인풋\n",
    "print(vat.shape) # 검증 타겟"
   ]
  },
  {
   "cell_type": "code",
   "execution_count": 82,
   "metadata": {},
   "outputs": [],
   "source": [
    "num_classes = len(text_df.index)"
   ]
  },
  {
   "cell_type": "code",
   "execution_count": 83,
   "metadata": {},
   "outputs": [
    {
     "name": "stderr",
     "output_type": "stream",
     "text": [
      "/opt/anaconda3/lib/python3.11/site-packages/keras/src/layers/rnn/rnn.py:204: UserWarning: Do not pass an `input_shape`/`input_dim` argument to a layer. When using Sequential models, prefer using an `Input(shape)` object as the first layer in the model instead.\n",
      "  super().__init__(**kwargs)\n"
     ]
    }
   ],
   "source": [
    "from tensorflow import keras\n",
    "\n",
    "# Sequential 모델 생성\n",
    "model = keras.Sequential()\n",
    "\n",
    "# SimpleRNN 레이어 추가\n",
    "model.add(keras.layers.SimpleRNN(8, input_shape=(1255, 1)))  # 입력 데이터의 형태: (특성 수, 시퀀스 길이)\n",
    "\n",
    "# Dense 출력 레이어 설정\n",
    "model.add(keras.layers.Dense(num_classes, activation='softmax'))  # num_classes는 가게 범주의 수에 해당\n",
    "\n",
    "# RMSprop 옵티마이저 정의\n",
    "rmsprop = keras.optimizers.RMSprop(learning_rate=1e-4)\n",
    "\n",
    "# 모델 컴파일: categorical_crossentropy 손실 함수 사용\n",
    "model.compile(\n",
    "    optimizer=rmsprop,\n",
    "    loss='sparse_categorical_crossentropy',\n",
    "    metrics=['accuracy']\n",
    ")\n",
    "\n",
    "# # ModelCheckpoint와 EarlyStopping 콜백 정의\n",
    "checkpoint_cb = keras.callbacks.ModelCheckpoint(\"./data/best-simpleRnn-model.keras\", save_best_only=True)\n",
    "early_stopping_cb = keras.callbacks.EarlyStopping(patience=3, restore_best_weights=True)"
   ]
  },
  {
   "cell_type": "code",
   "execution_count": 84,
   "metadata": {},
   "outputs": [
    {
     "data": {
      "text/html": [
       "<pre style=\"white-space:pre;overflow-x:auto;line-height:normal;font-family:Menlo,'DejaVu Sans Mono',consolas,'Courier New',monospace\"><span style=\"font-weight: bold\">Model: \"sequential_4\"</span>\n",
       "</pre>\n"
      ],
      "text/plain": [
       "\u001b[1mModel: \"sequential_4\"\u001b[0m\n"
      ]
     },
     "metadata": {},
     "output_type": "display_data"
    },
    {
     "data": {
      "text/html": [
       "<pre style=\"white-space:pre;overflow-x:auto;line-height:normal;font-family:Menlo,'DejaVu Sans Mono',consolas,'Courier New',monospace\">┏━━━━━━━━━━━━━━━━━━━━━━━━━━━━━━━━━┳━━━━━━━━━━━━━━━━━━━━━━━━┳━━━━━━━━━━━━━━━┓\n",
       "┃<span style=\"font-weight: bold\"> Layer (type)                    </span>┃<span style=\"font-weight: bold\"> Output Shape           </span>┃<span style=\"font-weight: bold\">       Param # </span>┃\n",
       "┡━━━━━━━━━━━━━━━━━━━━━━━━━━━━━━━━━╇━━━━━━━━━━━━━━━━━━━━━━━━╇━━━━━━━━━━━━━━━┩\n",
       "│ simple_rnn_4 (<span style=\"color: #0087ff; text-decoration-color: #0087ff\">SimpleRNN</span>)        │ (<span style=\"color: #00d7ff; text-decoration-color: #00d7ff\">None</span>, <span style=\"color: #00af00; text-decoration-color: #00af00\">8</span>)              │            <span style=\"color: #00af00; text-decoration-color: #00af00\">80</span> │\n",
       "├─────────────────────────────────┼────────────────────────┼───────────────┤\n",
       "│ dense_3 (<span style=\"color: #0087ff; text-decoration-color: #0087ff\">Dense</span>)                 │ (<span style=\"color: #00d7ff; text-decoration-color: #00d7ff\">None</span>, <span style=\"color: #00af00; text-decoration-color: #00af00\">4055</span>)           │        <span style=\"color: #00af00; text-decoration-color: #00af00\">36,495</span> │\n",
       "└─────────────────────────────────┴────────────────────────┴───────────────┘\n",
       "</pre>\n"
      ],
      "text/plain": [
       "┏━━━━━━━━━━━━━━━━━━━━━━━━━━━━━━━━━┳━━━━━━━━━━━━━━━━━━━━━━━━┳━━━━━━━━━━━━━━━┓\n",
       "┃\u001b[1m \u001b[0m\u001b[1mLayer (type)                   \u001b[0m\u001b[1m \u001b[0m┃\u001b[1m \u001b[0m\u001b[1mOutput Shape          \u001b[0m\u001b[1m \u001b[0m┃\u001b[1m \u001b[0m\u001b[1m      Param #\u001b[0m\u001b[1m \u001b[0m┃\n",
       "┡━━━━━━━━━━━━━━━━━━━━━━━━━━━━━━━━━╇━━━━━━━━━━━━━━━━━━━━━━━━╇━━━━━━━━━━━━━━━┩\n",
       "│ simple_rnn_4 (\u001b[38;5;33mSimpleRNN\u001b[0m)        │ (\u001b[38;5;45mNone\u001b[0m, \u001b[38;5;34m8\u001b[0m)              │            \u001b[38;5;34m80\u001b[0m │\n",
       "├─────────────────────────────────┼────────────────────────┼───────────────┤\n",
       "│ dense_3 (\u001b[38;5;33mDense\u001b[0m)                 │ (\u001b[38;5;45mNone\u001b[0m, \u001b[38;5;34m4055\u001b[0m)           │        \u001b[38;5;34m36,495\u001b[0m │\n",
       "└─────────────────────────────────┴────────────────────────┴───────────────┘\n"
      ]
     },
     "metadata": {},
     "output_type": "display_data"
    },
    {
     "data": {
      "text/html": [
       "<pre style=\"white-space:pre;overflow-x:auto;line-height:normal;font-family:Menlo,'DejaVu Sans Mono',consolas,'Courier New',monospace\"><span style=\"font-weight: bold\"> Total params: </span><span style=\"color: #00af00; text-decoration-color: #00af00\">36,575</span> (142.87 KB)\n",
       "</pre>\n"
      ],
      "text/plain": [
       "\u001b[1m Total params: \u001b[0m\u001b[38;5;34m36,575\u001b[0m (142.87 KB)\n"
      ]
     },
     "metadata": {},
     "output_type": "display_data"
    },
    {
     "data": {
      "text/html": [
       "<pre style=\"white-space:pre;overflow-x:auto;line-height:normal;font-family:Menlo,'DejaVu Sans Mono',consolas,'Courier New',monospace\"><span style=\"font-weight: bold\"> Trainable params: </span><span style=\"color: #00af00; text-decoration-color: #00af00\">36,575</span> (142.87 KB)\n",
       "</pre>\n"
      ],
      "text/plain": [
       "\u001b[1m Trainable params: \u001b[0m\u001b[38;5;34m36,575\u001b[0m (142.87 KB)\n"
      ]
     },
     "metadata": {},
     "output_type": "display_data"
    },
    {
     "data": {
      "text/html": [
       "<pre style=\"white-space:pre;overflow-x:auto;line-height:normal;font-family:Menlo,'DejaVu Sans Mono',consolas,'Courier New',monospace\"><span style=\"font-weight: bold\"> Non-trainable params: </span><span style=\"color: #00af00; text-decoration-color: #00af00\">0</span> (0.00 B)\n",
       "</pre>\n"
      ],
      "text/plain": [
       "\u001b[1m Non-trainable params: \u001b[0m\u001b[38;5;34m0\u001b[0m (0.00 B)\n"
      ]
     },
     "metadata": {},
     "output_type": "display_data"
    }
   ],
   "source": [
    "model.summary()"
   ]
  },
  {
   "cell_type": "code",
   "execution_count": 86,
   "metadata": {},
   "outputs": [
    {
     "name": "stdout",
     "output_type": "stream",
     "text": [
      "Epoch 1/100\n"
     ]
    },
    {
     "name": "stderr",
     "output_type": "stream",
     "text": [
      "2024-06-28 14:05:01.286521: W tensorflow/core/framework/op_kernel.cc:1816] OP_REQUIRES failed at cast_op.cc:122 : UNIMPLEMENTED: Cast string to float is not supported\n"
     ]
    },
    {
     "ename": "UnimplementedError",
     "evalue": "Graph execution error:\n\nDetected at node compile_loss/sparse_categorical_crossentropy/Cast defined at (most recent call last):\n  File \"<frozen runpy>\", line 198, in _run_module_as_main\n\n  File \"<frozen runpy>\", line 88, in _run_code\n\n  File \"/opt/anaconda3/lib/python3.11/site-packages/ipykernel_launcher.py\", line 17, in <module>\n\n  File \"/opt/anaconda3/lib/python3.11/site-packages/traitlets/config/application.py\", line 992, in launch_instance\n\n  File \"/opt/anaconda3/lib/python3.11/site-packages/ipykernel/kernelapp.py\", line 701, in start\n\n  File \"/opt/anaconda3/lib/python3.11/site-packages/tornado/platform/asyncio.py\", line 195, in start\n\n  File \"/opt/anaconda3/lib/python3.11/asyncio/base_events.py\", line 607, in run_forever\n\n  File \"/opt/anaconda3/lib/python3.11/asyncio/base_events.py\", line 1922, in _run_once\n\n  File \"/opt/anaconda3/lib/python3.11/asyncio/events.py\", line 80, in _run\n\n  File \"/opt/anaconda3/lib/python3.11/site-packages/ipykernel/kernelbase.py\", line 534, in dispatch_queue\n\n  File \"/opt/anaconda3/lib/python3.11/site-packages/ipykernel/kernelbase.py\", line 523, in process_one\n\n  File \"/opt/anaconda3/lib/python3.11/site-packages/ipykernel/kernelbase.py\", line 429, in dispatch_shell\n\n  File \"/opt/anaconda3/lib/python3.11/site-packages/ipykernel/kernelbase.py\", line 767, in execute_request\n\n  File \"/opt/anaconda3/lib/python3.11/site-packages/ipykernel/ipkernel.py\", line 429, in do_execute\n\n  File \"/opt/anaconda3/lib/python3.11/site-packages/ipykernel/zmqshell.py\", line 549, in run_cell\n\n  File \"/opt/anaconda3/lib/python3.11/site-packages/IPython/core/interactiveshell.py\", line 3051, in run_cell\n\n  File \"/opt/anaconda3/lib/python3.11/site-packages/IPython/core/interactiveshell.py\", line 3106, in _run_cell\n\n  File \"/opt/anaconda3/lib/python3.11/site-packages/IPython/core/async_helpers.py\", line 129, in _pseudo_sync_runner\n\n  File \"/opt/anaconda3/lib/python3.11/site-packages/IPython/core/interactiveshell.py\", line 3311, in run_cell_async\n\n  File \"/opt/anaconda3/lib/python3.11/site-packages/IPython/core/interactiveshell.py\", line 3493, in run_ast_nodes\n\n  File \"/opt/anaconda3/lib/python3.11/site-packages/IPython/core/interactiveshell.py\", line 3553, in run_code\n\n  File \"/var/folders/q5/q667z4nj3mv72k7_1mqf5hd80000gn/T/ipykernel_10000/4238941162.py\", line 2, in <module>\n\n  File \"/opt/anaconda3/lib/python3.11/site-packages/keras/src/utils/traceback_utils.py\", line 117, in error_handler\n\n  File \"/opt/anaconda3/lib/python3.11/site-packages/keras/src/backend/tensorflow/trainer.py\", line 314, in fit\n\n  File \"/opt/anaconda3/lib/python3.11/site-packages/keras/src/backend/tensorflow/trainer.py\", line 117, in one_step_on_iterator\n\n  File \"/opt/anaconda3/lib/python3.11/site-packages/keras/src/backend/tensorflow/trainer.py\", line 104, in one_step_on_data\n\n  File \"/opt/anaconda3/lib/python3.11/site-packages/keras/src/backend/tensorflow/trainer.py\", line 54, in train_step\n\n  File \"/opt/anaconda3/lib/python3.11/site-packages/keras/src/trainers/trainer.py\", line 316, in compute_loss\n\n  File \"/opt/anaconda3/lib/python3.11/site-packages/keras/src/trainers/compile_utils.py\", line 609, in __call__\n\n  File \"/opt/anaconda3/lib/python3.11/site-packages/keras/src/trainers/compile_utils.py\", line 645, in call\n\n  File \"/opt/anaconda3/lib/python3.11/site-packages/keras/src/losses/loss.py\", line 39, in __call__\n\n  File \"/opt/anaconda3/lib/python3.11/site-packages/keras/src/tree/tree_api.py\", line 148, in map_structure\n\n  File \"/opt/anaconda3/lib/python3.11/site-packages/keras/src/tree/optree_impl.py\", line 79, in map_structure\n\n  File \"/opt/anaconda3/lib/python3.11/site-packages/optree/ops.py\", line 594, in tree_map\n\n  File \"/opt/anaconda3/lib/python3.11/site-packages/keras/src/losses/loss.py\", line 40, in <lambda>\n\n  File \"/opt/anaconda3/lib/python3.11/site-packages/keras/src/ops/core.py\", line 495, in convert_to_tensor\n\n  File \"/opt/anaconda3/lib/python3.11/site-packages/keras/src/backend/tensorflow/core.py\", line 120, in convert_to_tensor\n\nCast string to float is not supported\n\t [[{{node compile_loss/sparse_categorical_crossentropy/Cast}}]] [Op:__inference_one_step_on_iterator_67677]",
     "output_type": "error",
     "traceback": [
      "\u001b[0;31m---------------------------------------------------------------------------\u001b[0m",
      "\u001b[0;31mUnimplementedError\u001b[0m                        Traceback (most recent call last)",
      "Cell \u001b[0;32mIn[86], line 2\u001b[0m\n\u001b[1;32m      1\u001b[0m \u001b[38;5;66;03m# 모델 학습\u001b[39;00m\n\u001b[0;32m----> 2\u001b[0m history \u001b[38;5;241m=\u001b[39m model\u001b[38;5;241m.\u001b[39mfit(\n\u001b[1;32m      3\u001b[0m     v_trd,  \u001b[38;5;66;03m# 훈련 데이터\u001b[39;00m\n\u001b[1;32m      4\u001b[0m     v_trt,  \u001b[38;5;66;03m# 원-핫 인코딩된 타겟 데이터\u001b[39;00m\n\u001b[1;32m      5\u001b[0m     epochs\u001b[38;5;241m=\u001b[39m\u001b[38;5;241m100\u001b[39m,\n\u001b[1;32m      6\u001b[0m     batch_size\u001b[38;5;241m=\u001b[39m\u001b[38;5;241m60\u001b[39m,\n\u001b[1;32m      7\u001b[0m     validation_data\u001b[38;5;241m=\u001b[39m(vad, vat),  \u001b[38;5;66;03m# 검증 데이터\u001b[39;00m\n\u001b[1;32m      8\u001b[0m     \u001b[38;5;66;03m# callbacks=[checkpoint_cb, early_stopping_cb]\u001b[39;00m\n\u001b[1;32m      9\u001b[0m )\n",
      "File \u001b[0;32m/opt/anaconda3/lib/python3.11/site-packages/keras/src/utils/traceback_utils.py:122\u001b[0m, in \u001b[0;36mfilter_traceback.<locals>.error_handler\u001b[0;34m(*args, **kwargs)\u001b[0m\n\u001b[1;32m    119\u001b[0m     filtered_tb \u001b[38;5;241m=\u001b[39m _process_traceback_frames(e\u001b[38;5;241m.\u001b[39m__traceback__)\n\u001b[1;32m    120\u001b[0m     \u001b[38;5;66;03m# To get the full stack trace, call:\u001b[39;00m\n\u001b[1;32m    121\u001b[0m     \u001b[38;5;66;03m# `keras.config.disable_traceback_filtering()`\u001b[39;00m\n\u001b[0;32m--> 122\u001b[0m     \u001b[38;5;28;01mraise\u001b[39;00m e\u001b[38;5;241m.\u001b[39mwith_traceback(filtered_tb) \u001b[38;5;28;01mfrom\u001b[39;00m \u001b[38;5;28;01mNone\u001b[39;00m\n\u001b[1;32m    123\u001b[0m \u001b[38;5;28;01mfinally\u001b[39;00m:\n\u001b[1;32m    124\u001b[0m     \u001b[38;5;28;01mdel\u001b[39;00m filtered_tb\n",
      "File \u001b[0;32m/opt/anaconda3/lib/python3.11/site-packages/tensorflow/python/eager/execute.py:53\u001b[0m, in \u001b[0;36mquick_execute\u001b[0;34m(op_name, num_outputs, inputs, attrs, ctx, name)\u001b[0m\n\u001b[1;32m     51\u001b[0m \u001b[38;5;28;01mtry\u001b[39;00m:\n\u001b[1;32m     52\u001b[0m   ctx\u001b[38;5;241m.\u001b[39mensure_initialized()\n\u001b[0;32m---> 53\u001b[0m   tensors \u001b[38;5;241m=\u001b[39m pywrap_tfe\u001b[38;5;241m.\u001b[39mTFE_Py_Execute(ctx\u001b[38;5;241m.\u001b[39m_handle, device_name, op_name,\n\u001b[1;32m     54\u001b[0m                                       inputs, attrs, num_outputs)\n\u001b[1;32m     55\u001b[0m \u001b[38;5;28;01mexcept\u001b[39;00m core\u001b[38;5;241m.\u001b[39m_NotOkStatusException \u001b[38;5;28;01mas\u001b[39;00m e:\n\u001b[1;32m     56\u001b[0m   \u001b[38;5;28;01mif\u001b[39;00m name \u001b[38;5;129;01mis\u001b[39;00m \u001b[38;5;129;01mnot\u001b[39;00m \u001b[38;5;28;01mNone\u001b[39;00m:\n",
      "\u001b[0;31mUnimplementedError\u001b[0m: Graph execution error:\n\nDetected at node compile_loss/sparse_categorical_crossentropy/Cast defined at (most recent call last):\n  File \"<frozen runpy>\", line 198, in _run_module_as_main\n\n  File \"<frozen runpy>\", line 88, in _run_code\n\n  File \"/opt/anaconda3/lib/python3.11/site-packages/ipykernel_launcher.py\", line 17, in <module>\n\n  File \"/opt/anaconda3/lib/python3.11/site-packages/traitlets/config/application.py\", line 992, in launch_instance\n\n  File \"/opt/anaconda3/lib/python3.11/site-packages/ipykernel/kernelapp.py\", line 701, in start\n\n  File \"/opt/anaconda3/lib/python3.11/site-packages/tornado/platform/asyncio.py\", line 195, in start\n\n  File \"/opt/anaconda3/lib/python3.11/asyncio/base_events.py\", line 607, in run_forever\n\n  File \"/opt/anaconda3/lib/python3.11/asyncio/base_events.py\", line 1922, in _run_once\n\n  File \"/opt/anaconda3/lib/python3.11/asyncio/events.py\", line 80, in _run\n\n  File \"/opt/anaconda3/lib/python3.11/site-packages/ipykernel/kernelbase.py\", line 534, in dispatch_queue\n\n  File \"/opt/anaconda3/lib/python3.11/site-packages/ipykernel/kernelbase.py\", line 523, in process_one\n\n  File \"/opt/anaconda3/lib/python3.11/site-packages/ipykernel/kernelbase.py\", line 429, in dispatch_shell\n\n  File \"/opt/anaconda3/lib/python3.11/site-packages/ipykernel/kernelbase.py\", line 767, in execute_request\n\n  File \"/opt/anaconda3/lib/python3.11/site-packages/ipykernel/ipkernel.py\", line 429, in do_execute\n\n  File \"/opt/anaconda3/lib/python3.11/site-packages/ipykernel/zmqshell.py\", line 549, in run_cell\n\n  File \"/opt/anaconda3/lib/python3.11/site-packages/IPython/core/interactiveshell.py\", line 3051, in run_cell\n\n  File \"/opt/anaconda3/lib/python3.11/site-packages/IPython/core/interactiveshell.py\", line 3106, in _run_cell\n\n  File \"/opt/anaconda3/lib/python3.11/site-packages/IPython/core/async_helpers.py\", line 129, in _pseudo_sync_runner\n\n  File \"/opt/anaconda3/lib/python3.11/site-packages/IPython/core/interactiveshell.py\", line 3311, in run_cell_async\n\n  File \"/opt/anaconda3/lib/python3.11/site-packages/IPython/core/interactiveshell.py\", line 3493, in run_ast_nodes\n\n  File \"/opt/anaconda3/lib/python3.11/site-packages/IPython/core/interactiveshell.py\", line 3553, in run_code\n\n  File \"/var/folders/q5/q667z4nj3mv72k7_1mqf5hd80000gn/T/ipykernel_10000/4238941162.py\", line 2, in <module>\n\n  File \"/opt/anaconda3/lib/python3.11/site-packages/keras/src/utils/traceback_utils.py\", line 117, in error_handler\n\n  File \"/opt/anaconda3/lib/python3.11/site-packages/keras/src/backend/tensorflow/trainer.py\", line 314, in fit\n\n  File \"/opt/anaconda3/lib/python3.11/site-packages/keras/src/backend/tensorflow/trainer.py\", line 117, in one_step_on_iterator\n\n  File \"/opt/anaconda3/lib/python3.11/site-packages/keras/src/backend/tensorflow/trainer.py\", line 104, in one_step_on_data\n\n  File \"/opt/anaconda3/lib/python3.11/site-packages/keras/src/backend/tensorflow/trainer.py\", line 54, in train_step\n\n  File \"/opt/anaconda3/lib/python3.11/site-packages/keras/src/trainers/trainer.py\", line 316, in compute_loss\n\n  File \"/opt/anaconda3/lib/python3.11/site-packages/keras/src/trainers/compile_utils.py\", line 609, in __call__\n\n  File \"/opt/anaconda3/lib/python3.11/site-packages/keras/src/trainers/compile_utils.py\", line 645, in call\n\n  File \"/opt/anaconda3/lib/python3.11/site-packages/keras/src/losses/loss.py\", line 39, in __call__\n\n  File \"/opt/anaconda3/lib/python3.11/site-packages/keras/src/tree/tree_api.py\", line 148, in map_structure\n\n  File \"/opt/anaconda3/lib/python3.11/site-packages/keras/src/tree/optree_impl.py\", line 79, in map_structure\n\n  File \"/opt/anaconda3/lib/python3.11/site-packages/optree/ops.py\", line 594, in tree_map\n\n  File \"/opt/anaconda3/lib/python3.11/site-packages/keras/src/losses/loss.py\", line 40, in <lambda>\n\n  File \"/opt/anaconda3/lib/python3.11/site-packages/keras/src/ops/core.py\", line 495, in convert_to_tensor\n\n  File \"/opt/anaconda3/lib/python3.11/site-packages/keras/src/backend/tensorflow/core.py\", line 120, in convert_to_tensor\n\nCast string to float is not supported\n\t [[{{node compile_loss/sparse_categorical_crossentropy/Cast}}]] [Op:__inference_one_step_on_iterator_67677]"
     ]
    }
   ],
   "source": [
    "# 모델 학습\n",
    "history = model.fit(\n",
    "    v_trd,  # 훈련 데이터\n",
    "    v_trt,  # 원-핫 인코딩된 타겟 데이터\n",
    "    epochs=100,\n",
    "    batch_size=60,\n",
    "    validation_data=(vad, vat),  # 검증 데이터\n",
    "    # callbacks=[checkpoint_cb, early_stopping_cb]\n",
    ")"
   ]
  },
  {
   "cell_type": "code",
   "execution_count": null,
   "metadata": {},
   "outputs": [],
   "source": [
    "from gensim.models import FastText\n",
    "\n",
    "fast_model = FastText(sent_arr, window=5, min_count=5, workers=4, sg=1)"
   ]
  },
  {
   "cell_type": "code",
   "execution_count": null,
   "metadata": {},
   "outputs": [
    {
     "data": {
      "text/plain": [
       "[('샛강', 0.8128864169120789),\n",
       " ('역삼', 0.787244975566864),\n",
       " ('선유도', 0.7846770882606506),\n",
       " ('마포구', 0.7823004722595215),\n",
       " ('마포대교', 0.7706500887870789),\n",
       " ('여의천', 0.7692015767097473),\n",
       " ('빛섬', 0.7671794295310974),\n",
       " ('한강', 0.7667026519775391),\n",
       " ('한강대교', 0.7645562291145325),\n",
       " ('유람선', 0.7633981108665466)]"
      ]
     },
     "execution_count": 30,
     "metadata": {},
     "output_type": "execute_result"
    }
   ],
   "source": [
    "fast_model.wv.most_similar(\"여의도\")"
   ]
  },
  {
   "cell_type": "markdown",
   "metadata": {},
   "source": [
    "----"
   ]
  },
  {
   "cell_type": "code",
   "execution_count": 65,
   "metadata": {},
   "outputs": [],
   "source": [
    "# 불용어\n",
    "stop_word = [\n",
    "    ' ',',','.','등','수','이요','요','번','앞','곳','집','류','모','봉','돌','호선','객','부','콩','겸','그','위','계','무','안','눈','방','이','팅',\n",
    "    '비','통','석','개','세','순','외','점','전','것','두','나','옥','내','역','과','뿐','이류','찰','더','여','년','로','층','차','종','배','중','몽',\n",
    "    '도','날','널','때','꼭','및','볼','후','룸','의','실','또','제','온','를','터','인','탕','총','각','명','저','리','처','존','뜻','이자','움','입',\n",
    "    '게','좀','데','기','만','용','초','몸','핫','거','넉','끼','단','접','호','창','난','칸','스','또한','듯','때문','린','오','시','은','함','적','샷',\n",
    "    '이후','마치','가도','원','임','이제','얼마','밍','재','란','송','거나','구','중이','늘','감','앤','변','목','대해','근대','운','널리','곳도','가끔',\n",
    "    '주','걸','장','상','이외','통해','얼','유','사','도량','갓','너','고기구','깃'\n",
    "]"
   ]
  },
  {
   "cell_type": "code",
   "execution_count": 207,
   "metadata": {},
   "outputs": [],
   "source": [
    "import pandas as pd\n",
    "\n",
    "df = pd.read_csv('./data/구석구석_서울크롤링_4057.csv')"
   ]
  },
  {
   "cell_type": "code",
   "execution_count": 208,
   "metadata": {},
   "outputs": [],
   "source": [
    "# 사용할 컬럼\n",
    "use_col = ['장소명', '상세설명','한줄설명', '리뷰','대표메뉴','취급메뉴', '주소']\n",
    "drop_data = []\n",
    "\n",
    "for i in df:\n",
    "    # 전체 컬럼 중 사용할 컬럼이 아니면 제거\n",
    "    if i not in use_col:\n",
    "        drop_data.append(i)\n",
    "\n",
    "df = df.drop(drop_data, axis=1)"
   ]
  },
  {
   "cell_type": "code",
   "execution_count": 209,
   "metadata": {},
   "outputs": [],
   "source": [
    "# 주소 결측치\n",
    "df.주소[df.주소.isnull()]\n",
    "\n",
    "# 제거\n",
    "df.drop(index=2665, inplace=True)\n",
    "\n",
    "# index 수정\n",
    "df.reset_index(drop='index', inplace=True)"
   ]
  },
  {
   "cell_type": "code",
   "execution_count": 210,
   "metadata": {},
   "outputs": [],
   "source": [
    "# null 값 공백으로 치환\n",
    "df.fillna('', inplace=True)"
   ]
  },
  {
   "cell_type": "code",
   "execution_count": 211,
   "metadata": {},
   "outputs": [],
   "source": [
    "from konlpy.tag import Komoran\n",
    "import re\n",
    "ko = Komoran()\n",
    "\n",
    "for col in use_col[1:]:\n",
    "    for row, text in enumerate(df[col]):\n",
    "        # 이모지, 특수문자 제거\n",
    "        token = ko.nouns(re.sub('[^A-Za-z0-9가-힣]', ' ', text))\n",
    "\n",
    "        # 정제된 토큰들로 다시 문장화\n",
    "        df.loc[row, col] = \" \".join(token)"
   ]
  },
  {
   "cell_type": "code",
   "execution_count": 163,
   "metadata": {},
   "outputs": [
    {
     "data": {
      "text/html": [
       "<div>\n",
       "<style scoped>\n",
       "    .dataframe tbody tr th:only-of-type {\n",
       "        vertical-align: middle;\n",
       "    }\n",
       "\n",
       "    .dataframe tbody tr th {\n",
       "        vertical-align: top;\n",
       "    }\n",
       "\n",
       "    .dataframe thead th {\n",
       "        text-align: right;\n",
       "    }\n",
       "</style>\n",
       "<table border=\"1\" class=\"dataframe\">\n",
       "  <thead>\n",
       "    <tr style=\"text-align: right;\">\n",
       "      <th></th>\n",
       "      <th>장소명</th>\n",
       "      <th>한줄설명</th>\n",
       "      <th>상세설명</th>\n",
       "      <th>주소</th>\n",
       "      <th>대표메뉴</th>\n",
       "      <th>취급메뉴</th>\n",
       "      <th>리뷰</th>\n",
       "    </tr>\n",
       "  </thead>\n",
       "  <tbody>\n",
       "    <tr>\n",
       "      <th>0</th>\n",
       "      <td>한옥갈비</td>\n",
       "      <td>갈비 감칠맛 양념 조합</td>\n",
       "      <td>한옥 갈비 동대문 닭 마리 골목 자리 갈비 구이 전문 깃 집 종로5가역 1호선 과 ...</td>\n",
       "      <td>서울특별시 종로구 종로 40 종로</td>\n",
       "      <td>양념 소 갈비 돼지갈비</td>\n",
       "      <td>양념 소 갈비 돼지갈비 갈비살 오 겹 살 외</td>\n",
       "      <td>갈비 돌솥비빔밥 갈비 풍미 비빔밥 돌 솥</td>\n",
       "    </tr>\n",
       "    <tr>\n",
       "      <th>1</th>\n",
       "      <td>일미간장게장본점</td>\n",
       "      <td>년 전통 간장 게장 전문 식당</td>\n",
       "      <td>서울 동대문구 장안동 상가 거리 년 전통 간장 게장 전문 식당 간장 게장 사람 인기...</td>\n",
       "      <td>서울특별시 동대문구 장한로 24 길</td>\n",
       "      <td>간장 게장</td>\n",
       "      <td>꽃게 찜 꽃게 탕 아귀찜 해물탕 등</td>\n",
       "      <td></td>\n",
       "    </tr>\n",
       "    <tr>\n",
       "      <th>2</th>\n",
       "      <td>향림사</td>\n",
       "      <td>계단 천정 불화 유리 밖 건물</td>\n",
       "      <td>서울 양천구 신정동 산 공원 목동 차 우성아파트 사이 위치 규모 조계종 소속 불교 ...</td>\n",
       "      <td>서울특별시 양천구 중앙로 14 나기</td>\n",
       "      <td></td>\n",
       "      <td></td>\n",
       "      <td></td>\n",
       "    </tr>\n",
       "    <tr>\n",
       "      <th>3</th>\n",
       "      <td>친구네정육식당</td>\n",
       "      <td></td>\n",
       "      <td>보라매역 인근 위치 배 성비 수 고기 전문 정육 식당 맛집 고기 합리 가격 수 것 ...</td>\n",
       "      <td>서울특별시 동작구 여의대방로 26 길</td>\n",
       "      <td>돼지 마리</td>\n",
       "      <td>돼지 마리 소한 마리 삼겹살 외</td>\n",
       "      <td></td>\n",
       "    </tr>\n",
       "    <tr>\n",
       "      <th>4</th>\n",
       "      <td>트레블로지 명동 시티홀</td>\n",
       "      <td>교통편 인기 관광지 쇼핑몰 곳 위치 호텔</td>\n",
       "      <td>트레블 지 명동 시티홀 이름 단장 호텔 동안 친절 효율 서비스 고객 필요 충족 시설...</td>\n",
       "      <td>서울특별시 중구 세종대로 16 길</td>\n",
       "      <td></td>\n",
       "      <td></td>\n",
       "      <td></td>\n",
       "    </tr>\n",
       "    <tr>\n",
       "      <th>...</th>\n",
       "      <td>...</td>\n",
       "      <td>...</td>\n",
       "      <td>...</td>\n",
       "      <td>...</td>\n",
       "      <td>...</td>\n",
       "      <td>...</td>\n",
       "      <td>...</td>\n",
       "    </tr>\n",
       "    <tr>\n",
       "      <th>4051</th>\n",
       "      <td>이화감자국</td>\n",
       "      <td>맛</td>\n",
       "      <td>감 잣 국 골목 편 속 이화 감자 국 유명세 자랑 고기 무한 리필 반찬 자랑 김치 ...</td>\n",
       "      <td>서울특별시 은평구 응 암</td>\n",
       "      <td>감자탕</td>\n",
       "      <td>감자탕 뼈 찜</td>\n",
       "      <td></td>\n",
       "    </tr>\n",
       "    <tr>\n",
       "      <th>4052</th>\n",
       "      <td>태조대림감자국</td>\n",
       "      <td>고기 우거지 환상 조합</td>\n",
       "      <td>태 조대림 감자 국 서울시 은평구 응암동 자리 감자탕 전문점 응암동 감자 국거리 전...</td>\n",
       "      <td>서울특별시 은평구 응 암</td>\n",
       "      <td>감자탕</td>\n",
       "      <td>감자탕 양념 뼈 구이 등</td>\n",
       "      <td></td>\n",
       "    </tr>\n",
       "    <tr>\n",
       "      <th>4053</th>\n",
       "      <td>오향족발</td>\n",
       "      <td>득 족발 곳</td>\n",
       "      <td>공덕동 족발 골목 초창기 터 곳 평 식당 시작 지금 모습 득 족발 맛 물론 국 주문...</td>\n",
       "      <td>서울특별시 마포구 만리재로 공덕 시장</td>\n",
       "      <td>족발</td>\n",
       "      <td>족발 국 외</td>\n",
       "      <td></td>\n",
       "    </tr>\n",
       "    <tr>\n",
       "      <th>4054</th>\n",
       "      <td>이북만두</td>\n",
       "      <td></td>\n",
       "      <td>서울 교동 서울 시청 뒤 골목 위치 대표 음식 평양 식 손 만두 김치 말이 밥 참기...</td>\n",
       "      <td>서울특별시 중구 무교로</td>\n",
       "      <td>만두 국 김치 말이 밥 만두 전골</td>\n",
       "      <td>만두 국 김치 말이 밥 만두 전골 모듬 전 등</td>\n",
       "      <td>맛 김치 어 우려 북한 음식 번 만두 서울 가면 한번</td>\n",
       "    </tr>\n",
       "    <tr>\n",
       "      <th>4055</th>\n",
       "      <td>미가할매집</td>\n",
       "      <td>가족 숯불 구이 정식</td>\n",
       "      <td>메뉴 외부 가공 가공 식자 재가 품질 최고 식 자재 주방 조리 메뉴 구성은 고기 전...</td>\n",
       "      <td>서울특별시 관악구 신림로</td>\n",
       "      <td>한우 등심</td>\n",
       "      <td>한우 등심 꽃 갈비살 코스 요리 외</td>\n",
       "      <td></td>\n",
       "    </tr>\n",
       "  </tbody>\n",
       "</table>\n",
       "<p>4056 rows × 7 columns</p>\n",
       "</div>"
      ],
      "text/plain": [
       "               장소명                    한줄설명  \\\n",
       "0             한옥갈비            갈비 감칠맛 양념 조합   \n",
       "1         일미간장게장본점        년 전통 간장 게장 전문 식당   \n",
       "2              향림사        계단 천정 불화 유리 밖 건물   \n",
       "3          친구네정육식당                           \n",
       "4     트레블로지 명동 시티홀  교통편 인기 관광지 쇼핑몰 곳 위치 호텔   \n",
       "...            ...                     ...   \n",
       "4051         이화감자국                       맛   \n",
       "4052       태조대림감자국            고기 우거지 환상 조합   \n",
       "4053          오향족발                  득 족발 곳   \n",
       "4054          이북만두                           \n",
       "4055         미가할매집             가족 숯불 구이 정식   \n",
       "\n",
       "                                                   상세설명                    주소  \\\n",
       "0     한옥 갈비 동대문 닭 마리 골목 자리 갈비 구이 전문 깃 집 종로5가역 1호선 과 ...    서울특별시 종로구 종로 40 종로   \n",
       "1     서울 동대문구 장안동 상가 거리 년 전통 간장 게장 전문 식당 간장 게장 사람 인기...   서울특별시 동대문구 장한로 24 길   \n",
       "2     서울 양천구 신정동 산 공원 목동 차 우성아파트 사이 위치 규모 조계종 소속 불교 ...   서울특별시 양천구 중앙로 14 나기   \n",
       "3     보라매역 인근 위치 배 성비 수 고기 전문 정육 식당 맛집 고기 합리 가격 수 것 ...  서울특별시 동작구 여의대방로 26 길   \n",
       "4     트레블 지 명동 시티홀 이름 단장 호텔 동안 친절 효율 서비스 고객 필요 충족 시설...    서울특별시 중구 세종대로 16 길   \n",
       "...                                                 ...                   ...   \n",
       "4051  감 잣 국 골목 편 속 이화 감자 국 유명세 자랑 고기 무한 리필 반찬 자랑 김치 ...         서울특별시 은평구 응 암   \n",
       "4052  태 조대림 감자 국 서울시 은평구 응암동 자리 감자탕 전문점 응암동 감자 국거리 전...         서울특별시 은평구 응 암   \n",
       "4053  공덕동 족발 골목 초창기 터 곳 평 식당 시작 지금 모습 득 족발 맛 물론 국 주문...  서울특별시 마포구 만리재로 공덕 시장   \n",
       "4054  서울 교동 서울 시청 뒤 골목 위치 대표 음식 평양 식 손 만두 김치 말이 밥 참기...          서울특별시 중구 무교로   \n",
       "4055  메뉴 외부 가공 가공 식자 재가 품질 최고 식 자재 주방 조리 메뉴 구성은 고기 전...         서울특별시 관악구 신림로   \n",
       "\n",
       "                    대표메뉴                       취급메뉴  \\\n",
       "0           양념 소 갈비 돼지갈비   양념 소 갈비 돼지갈비 갈비살 오 겹 살 외   \n",
       "1                  간장 게장        꽃게 찜 꽃게 탕 아귀찜 해물탕 등   \n",
       "2                                                     \n",
       "3                  돼지 마리          돼지 마리 소한 마리 삼겹살 외   \n",
       "4                                                     \n",
       "...                  ...                        ...   \n",
       "4051                 감자탕                    감자탕 뼈 찜   \n",
       "4052                 감자탕              감자탕 양념 뼈 구이 등   \n",
       "4053                  족발                     족발 국 외   \n",
       "4054  만두 국 김치 말이 밥 만두 전골  만두 국 김치 말이 밥 만두 전골 모듬 전 등   \n",
       "4055               한우 등심        한우 등심 꽃 갈비살 코스 요리 외   \n",
       "\n",
       "                                 리뷰  \n",
       "0            갈비 돌솥비빔밥 갈비 풍미 비빔밥 돌 솥  \n",
       "1                                    \n",
       "2                                    \n",
       "3                                    \n",
       "4                                    \n",
       "...                             ...  \n",
       "4051                                 \n",
       "4052                                 \n",
       "4053                                 \n",
       "4054  맛 김치 어 우려 북한 음식 번 만두 서울 가면 한번  \n",
       "4055                                 \n",
       "\n",
       "[4056 rows x 7 columns]"
      ]
     },
     "execution_count": 163,
     "metadata": {},
     "output_type": "execute_result"
    }
   ],
   "source": [
    "df"
   ]
  },
  {
   "cell_type": "code",
   "execution_count": 212,
   "metadata": {},
   "outputs": [],
   "source": [
    "df['정보'] = df['장소명'] + \" \""
   ]
  },
  {
   "cell_type": "code",
   "execution_count": 213,
   "metadata": {},
   "outputs": [],
   "source": [
    "for i in use_col[1:] :\n",
    "    df.정보 += df[i]\n",
    "\n",
    "# 장소명과 정보 컬럼을 제외한 나머지 컬럼 삭제\n",
    "df.drop(use_col[1:], axis=1, inplace=True)"
   ]
  },
  {
   "cell_type": "code",
   "execution_count": 214,
   "metadata": {},
   "outputs": [
    {
     "data": {
      "text/html": [
       "<div>\n",
       "<style scoped>\n",
       "    .dataframe tbody tr th:only-of-type {\n",
       "        vertical-align: middle;\n",
       "    }\n",
       "\n",
       "    .dataframe tbody tr th {\n",
       "        vertical-align: top;\n",
       "    }\n",
       "\n",
       "    .dataframe thead th {\n",
       "        text-align: right;\n",
       "    }\n",
       "</style>\n",
       "<table border=\"1\" class=\"dataframe\">\n",
       "  <thead>\n",
       "    <tr style=\"text-align: right;\">\n",
       "      <th></th>\n",
       "      <th>장소명</th>\n",
       "      <th>정보</th>\n",
       "    </tr>\n",
       "  </thead>\n",
       "  <tbody>\n",
       "    <tr>\n",
       "      <th>0</th>\n",
       "      <td>한옥갈비</td>\n",
       "      <td>한옥갈비 한옥 갈비 동대문 닭 마리 골목 자리 갈비 구이 전문 깃 집 종로5가역 1...</td>\n",
       "    </tr>\n",
       "    <tr>\n",
       "      <th>1</th>\n",
       "      <td>일미간장게장본점</td>\n",
       "      <td>일미간장게장본점 서울 동대문구 장안동 상가 거리 년 전통 간장 게장 전문 식당 간장...</td>\n",
       "    </tr>\n",
       "    <tr>\n",
       "      <th>2</th>\n",
       "      <td>향림사</td>\n",
       "      <td>향림사 서울 양천구 신정동 산 공원 목동 차 우성아파트 사이 위치 규모 조계종 소속...</td>\n",
       "    </tr>\n",
       "    <tr>\n",
       "      <th>3</th>\n",
       "      <td>친구네정육식당</td>\n",
       "      <td>친구네정육식당 보라매역 인근 위치 배 성비 수 고기 전문 정육 식당 맛집 고기 합리...</td>\n",
       "    </tr>\n",
       "    <tr>\n",
       "      <th>4</th>\n",
       "      <td>트레블로지 명동 시티홀</td>\n",
       "      <td>트레블로지 명동 시티홀 트레블 지 명동 시티홀 이름 단장 호텔 동안 친절 효율 서비...</td>\n",
       "    </tr>\n",
       "    <tr>\n",
       "      <th>...</th>\n",
       "      <td>...</td>\n",
       "      <td>...</td>\n",
       "    </tr>\n",
       "    <tr>\n",
       "      <th>4051</th>\n",
       "      <td>이화감자국</td>\n",
       "      <td>이화감자국 감 잣 국 골목 편 속 이화 감자 국 유명세 자랑 고기 무한 리필 반찬 ...</td>\n",
       "    </tr>\n",
       "    <tr>\n",
       "      <th>4052</th>\n",
       "      <td>태조대림감자국</td>\n",
       "      <td>태조대림감자국 태 조대림 감자 국 서울시 은평구 응암동 자리 감자탕 전문점 응암동 ...</td>\n",
       "    </tr>\n",
       "    <tr>\n",
       "      <th>4053</th>\n",
       "      <td>오향족발</td>\n",
       "      <td>오향족발 공덕동 족발 골목 초창기 터 곳 평 식당 시작 지금 모습 득 족발 맛 물론...</td>\n",
       "    </tr>\n",
       "    <tr>\n",
       "      <th>4054</th>\n",
       "      <td>이북만두</td>\n",
       "      <td>이북만두 서울 교동 서울 시청 뒤 골목 위치 대표 음식 평양 식 손 만두 김치 말이...</td>\n",
       "    </tr>\n",
       "    <tr>\n",
       "      <th>4055</th>\n",
       "      <td>미가할매집</td>\n",
       "      <td>미가할매집 메뉴 외부 가공 가공 식자 재가 품질 최고 식 자재 주방 조리 메뉴 구성...</td>\n",
       "    </tr>\n",
       "  </tbody>\n",
       "</table>\n",
       "<p>4056 rows × 2 columns</p>\n",
       "</div>"
      ],
      "text/plain": [
       "               장소명                                                 정보\n",
       "0             한옥갈비  한옥갈비 한옥 갈비 동대문 닭 마리 골목 자리 갈비 구이 전문 깃 집 종로5가역 1...\n",
       "1         일미간장게장본점  일미간장게장본점 서울 동대문구 장안동 상가 거리 년 전통 간장 게장 전문 식당 간장...\n",
       "2              향림사  향림사 서울 양천구 신정동 산 공원 목동 차 우성아파트 사이 위치 규모 조계종 소속...\n",
       "3          친구네정육식당  친구네정육식당 보라매역 인근 위치 배 성비 수 고기 전문 정육 식당 맛집 고기 합리...\n",
       "4     트레블로지 명동 시티홀  트레블로지 명동 시티홀 트레블 지 명동 시티홀 이름 단장 호텔 동안 친절 효율 서비...\n",
       "...            ...                                                ...\n",
       "4051         이화감자국  이화감자국 감 잣 국 골목 편 속 이화 감자 국 유명세 자랑 고기 무한 리필 반찬 ...\n",
       "4052       태조대림감자국  태조대림감자국 태 조대림 감자 국 서울시 은평구 응암동 자리 감자탕 전문점 응암동 ...\n",
       "4053          오향족발  오향족발 공덕동 족발 골목 초창기 터 곳 평 식당 시작 지금 모습 득 족발 맛 물론...\n",
       "4054          이북만두  이북만두 서울 교동 서울 시청 뒤 골목 위치 대표 음식 평양 식 손 만두 김치 말이...\n",
       "4055         미가할매집  미가할매집 메뉴 외부 가공 가공 식자 재가 품질 최고 식 자재 주방 조리 메뉴 구성...\n",
       "\n",
       "[4056 rows x 2 columns]"
      ]
     },
     "execution_count": 214,
     "metadata": {},
     "output_type": "execute_result"
    }
   ],
   "source": [
    "df"
   ]
  },
  {
   "cell_type": "code",
   "execution_count": 215,
   "metadata": {},
   "outputs": [],
   "source": [
    "# 불용어 제거\n",
    "for i in range(len(data)) :\n",
    "    temp = [word for word in df.정보[i].split(' ') if word not in stop_word]\n",
    "    df.loc[i, '정보'] = ' '.join(temp)"
   ]
  },
  {
   "cell_type": "code",
   "execution_count": 321,
   "metadata": {},
   "outputs": [],
   "source": [
    "from sklearn.feature_extraction.text import TfidfVectorizer\n",
    "from sklearn.metrics.pairwise import cosine_similarity\n",
    "\n",
    "# TF-IDF 벡터화\n",
    "tfidf = TfidfVectorizer()\n",
    "tfidf_matrix = tfidf.fit_transform(df['정보'])"
   ]
  },
  {
   "cell_type": "code",
   "execution_count": 322,
   "metadata": {},
   "outputs": [],
   "source": [
    "# 사용자의 입력문장을 통한 코사인 유사도 계산\n",
    "def user_input(model, query) :\n",
    "    query = ' '.join(ko.nouns(query))\n",
    "    query_tfidf = model.transform([query])\n",
    "    cosine_sim = cosine_similarity(query_tfidf, tfidf_matrix).reshape(-1)\n",
    "    return cosine_sim\n",
    "\n",
    "# 장소명을 입력받아 그 장소명의 정보 추출\n",
    "def searchByName(place_name) :\n",
    "    # 찾을 정보의 df\n",
    "    find_df = pd.read_csv(\"./data/구석구석_서울크롤링_4057.csv\")\n",
    "\n",
    "    json_col = [\"장소명\", \"주소\", \"상세설명\", \"문의 및 안내\"]\n",
    "    temp_dict = find_df.loc[find_df.장소명 == place_name, json_col].fillna(\"정보 없음\").iloc[0].to_dict()\n",
    "\n",
    "    return temp_dict"
   ]
  },
  {
   "cell_type": "code",
   "execution_count": 324,
   "metadata": {},
   "outputs": [
    {
     "name": "stdout",
     "output_type": "stream",
     "text": [
      "장소명 ----- 양천구 로데오거리\n",
      "코사인 유사도 ----- 0.2561288596810818\n",
      "장소명 ----- 안녕인사동\n",
      "코사인 유사도 ----- 0.18815138877690443\n",
      "장소명 ----- 호텔스타\n",
      "코사인 유사도 ----- 0.1803800033577048\n",
      "장소명 ----- 정식당\n",
      "코사인 유사도 ----- 0.17963571281156943\n",
      "장소명 ----- 국제음식문화거리(INTERNATIONAL FOOD STREET)\n",
      "코사인 유사도 ----- 0.17444868314057926\n",
      "장소명 ----- 대학로\n",
      "코사인 유사도 ----- 0.17038481376334397\n",
      "장소명 ----- 압구정 로데오거리\n",
      "코사인 유사도 ----- 0.1662228391069074\n",
      "장소명 ----- 호텔 볼(VOLL)\n",
      "코사인 유사도 ----- 0.16574459050081278\n",
      "장소명 ----- 아트포레스트\n",
      "코사인 유사도 ----- 0.16445150965698635\n",
      "장소명 ----- 홍대\n",
      "코사인 유사도 ----- 0.1635588631555461\n"
     ]
    }
   ],
   "source": [
    "import numpy as np\n",
    "\n",
    "input_sentence = \"강남구 놀거리\"\n",
    "\n",
    "# 입력한 값에 대해 코사인 유사도를 계산\n",
    "result_cosine_similarity = user_input(tfidf, input_sentence)\n",
    "top_index = np.argsort(result_cosine_similarity)[::-1]\n",
    "\n",
    "result_arr = []\n",
    "\n",
    "for row in top_index[:10]:\n",
    "    name = df.loc[row, '장소명']\n",
    "    print(\"장소명 -----\", name)\n",
    "    print(\"코사인 유사도 -----\", result_cosine_similarity[row])\n",
    "\n",
    "    result_arr.append(searchByName(name))"
   ]
  },
  {
   "cell_type": "code",
   "execution_count": 325,
   "metadata": {},
   "outputs": [],
   "source": [
    "import pickle\n",
    "\n",
    "# 모델 저장\n",
    "with open('tfidf_vectorizer.pkl', 'wb') as f:\n",
    "    pickle.dump(tfidf, f)"
   ]
  },
  {
   "cell_type": "markdown",
   "metadata": {},
   "source": [
    "------"
   ]
  },
  {
   "cell_type": "code",
   "execution_count": 335,
   "metadata": {},
   "outputs": [],
   "source": [
    "# 사용자의 입력문장을 통한 코사인 유사도 계산\n",
    "def user_input(model, query) :\n",
    "    query = ' '.join(ko.nouns(query))\n",
    "    query_tfidf = model.transform([query])\n",
    "    cosine_sim = cosine_similarity(query_tfidf, tfidf_matrix).reshape(-1)\n",
    "    return cosine_sim\n",
    "\n",
    "# 장소명을 입력받아 그 장소명의 정보 추출\n",
    "def searchByName(place_name) :\n",
    "    # 찾을 정보의 df\n",
    "    find_df = pd.read_csv(\"./data/구석구석_서울_크롤링_imageurl.csv\")\n",
    "\n",
    "    json_col = [\"장소명\", \"주소\", \"상세설명\", \"문의 및 안내\", \"사진주소\"]\n",
    "    # temp_dict = find_df.loc[find_df.장소명 == place_name, json_col].fillna(\"정보 없음\").iloc[0].to_dict()\n",
    "    temp_df = find_df.loc[find_df.장소명 == place_name, json_col].fillna(\"정보 없음\")\n",
    "    temp_df.columns = [\"name\", \"address\", \"description\", \"inquieries\", \"imageName\"]\n",
    "\n",
    "    return temp_df.iloc[0].to_dict()\n",
    "\n",
    "# 저장된 모델 불러오기\n",
    "with open('./tfidf_vectorizer.pkl', 'rb') as f:\n",
    "    loaded_model = pickle.load(f)\n",
    "\n",
    "input_sentence = \"강남구 갈비집\"\n",
    "\n",
    "result_cosine_similarity = user_input(tfidf, input_sentence)\n",
    "top_index = np.argsort(result_cosine_similarity)[::-1]\n",
    "\n",
    "result_arr = []\n",
    "\n",
    "for row in top_index[:10]:\n",
    "    name = df.loc[row, '장소명']\n",
    "    result_arr.append(searchByName(name))"
   ]
  }
 ],
 "metadata": {
  "kernelspec": {
   "display_name": "base",
   "language": "python",
   "name": "python3"
  },
  "language_info": {
   "codemirror_mode": {
    "name": "ipython",
    "version": 3
   },
   "file_extension": ".py",
   "mimetype": "text/x-python",
   "name": "python",
   "nbconvert_exporter": "python",
   "pygments_lexer": "ipython3",
   "version": "3.11.7"
  }
 },
 "nbformat": 4,
 "nbformat_minor": 2
}
