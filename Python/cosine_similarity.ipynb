{
 "cells": [
  {
   "cell_type": "code",
   "execution_count": 1,
   "metadata": {},
   "outputs": [],
   "source": [
    "import pandas as pd\n",
    "import numpy as np\n",
    "\n",
    "df = pd.read_csv('./data/구석구석_서울크롤링_4057.csv')"
   ]
  },
  {
   "cell_type": "code",
   "execution_count": 2,
   "metadata": {},
   "outputs": [],
   "source": [
    "# 사용할 컬럼 선별\n",
    "use_col = ['장소명', '상세설명','한줄설명', '리뷰','대표메뉴','취급메뉴', '주소']\n",
    "\n",
    "# 전체 컬럼 중 사용할 컬럼이 아니면 제거\n",
    "df.drop(set(df.columns) - set(use_col), axis=1, inplace=True)"
   ]
  },
  {
   "cell_type": "code",
   "execution_count": 3,
   "metadata": {},
   "outputs": [],
   "source": [
    "# 주소 결측치 제거\n",
    "df.drop(index=2665, inplace=True)\n",
    "\n",
    "# index 재설정\n",
    "df.reset_index(drop='index', inplace=True)\n",
    "\n",
    "# null 값 공백으로 치환\n",
    "df.fillna('', inplace=True)"
   ]
  },
  {
   "cell_type": "code",
   "execution_count": 4,
   "metadata": {},
   "outputs": [],
   "source": [
    "from konlpy.tag import Komoran\n",
    "import re\n",
    "ko = Komoran()\n",
    "\n",
    "for col in use_col[1:]:\n",
    "    for row, text in enumerate(df[col]):\n",
    "        # 이모지, 특수문자 제거\n",
    "        token = ko.nouns(re.sub('[^A-Za-z0-9가-힣]', ' ', text))\n",
    "\n",
    "        # 정제된 토큰들로 다시 문장화\n",
    "        df.loc[row, col] = \" \".join(token)"
   ]
  },
  {
   "cell_type": "code",
   "execution_count": 5,
   "metadata": {},
   "outputs": [],
   "source": [
    "# 사용할 컬럼들의 모든 text를 이어 붙일 '정보' 컬럼 생성\n",
    "df['정보'] = df['장소명'] + \" \"\n",
    "\n",
    "for i in use_col[1:] :\n",
    "    df.정보 += df[i]\n",
    "\n",
    "# 장소명과 정보 컬럼을 제외한 나머지 컬럼 삭제\n",
    "df.drop(use_col[1:], axis=1, inplace=True)"
   ]
  },
  {
   "cell_type": "markdown",
   "metadata": {},
   "source": [
    "### 불용어 제거"
   ]
  },
  {
   "cell_type": "code",
   "execution_count": 250,
   "metadata": {},
   "outputs": [],
   "source": [
    "# 불용어\n",
    "stop_word = [\n",
    "    ' ',',','.','등','수','이요','요','번','앞','곳','집','류','모','봉','돌','호선','객','부','콩','겸','그','위','계','무','안','눈','방','이','팅',\n",
    "    '비','통','석','개','세','순','외','점','전','것','두','나','옥','내','역','과','뿐','이류','찰','더','여','년','로','층','차','종','배','중','몽',\n",
    "    '도','날','널','때','꼭','및','볼','후','룸','의','실','또','제','온','를','터','인','탕','총','각','명','저','리','처','존','뜻','이자','움','입',\n",
    "    '게','좀','데','기','만','용','초','몸','핫','거','넉','끼','단','접','호','창','난','칸','스','또한','듯','때문','린','오','시','은','함','적','샷',\n",
    "    '이후','마치','가도','원','임','이제','얼마','밍','재','란','송','거나','구','중이','늘','감','앤','변','목','대해','근대','운','널리','곳도','가끔',\n",
    "    '주','걸','장','상','이외','통해','얼','유','사','도량','갓','너','고기구','깃','어','반','하면 된다','파',''\n",
    "]"
   ]
  },
  {
   "cell_type": "code",
   "execution_count": 7,
   "metadata": {},
   "outputs": [],
   "source": [
    "# 불용어 제거\n",
    "for i in range(len(df)) :\n",
    "    temp = [word for word in df.정보[i].split(' ') if word not in stop_word]\n",
    "    df.loc[i, '정보'] = ' '.join(temp)"
   ]
  },
  {
   "cell_type": "markdown",
   "metadata": {},
   "source": [
    "## TF-IDF"
   ]
  },
  {
   "cell_type": "code",
   "execution_count": 8,
   "metadata": {},
   "outputs": [],
   "source": [
    "from sklearn.feature_extraction.text import TfidfVectorizer\n",
    "from sklearn.metrics.pairwise import cosine_similarity\n",
    "\n",
    "# TF-IDF 벡터화\n",
    "tfidf = TfidfVectorizer()\n",
    "tfidf_matrix = tfidf.fit_transform(df['정보'])"
   ]
  },
  {
   "cell_type": "code",
   "execution_count": 9,
   "metadata": {},
   "outputs": [],
   "source": [
    "import pickle\n",
    "\n",
    "# 모델 저장\n",
    "with open('tfidf_vectorizer.pkl', 'wb') as f:\n",
    "    pickle.dump(tfidf, f)"
   ]
  },
  {
   "cell_type": "markdown",
   "metadata": {},
   "source": [
    "----\n",
    "\n",
    "## 출력"
   ]
  },
  {
   "cell_type": "code",
   "execution_count": 324,
   "metadata": {},
   "outputs": [],
   "source": [
    "# 사용자의 입력문장을 통한 코사인 유사도 계산\n",
    "def user_input_to_cosine_sim(model, query) :\n",
    "    query = ' '.join(ko.nouns(query))\n",
    "    query_tfidf = model.transform([query])\n",
    "    cosine_sim = cosine_similarity(query_tfidf, tfidf_matrix).reshape(-1)\n",
    "    return cosine_sim\n",
    "\n",
    "# 장소명을 입력받아 그 장소명의 정보 추출\n",
    "def searchByName(place_name) :\n",
    "    # 찾을 정보의 df\n",
    "    find_df = pd.read_csv(\"./data/구석구석_서울_크롤링_imageurl.csv\")\n",
    "    json_col = [\"장소명\", \"주소\", \"상세설명\", \"문의 및 안내\", \"사진주소\"]\n",
    "\n",
    "    # temp_dict = find_df.loc[find_df.장소명 == place_name, json_col].fillna(\"정보 없음\").iloc[0].to_dict()\n",
    "    temp_df = find_df.loc[(find_df.장소명 == place_name), json_col].fillna(\"정보 없음\")\n",
    "    temp_df.columns = [\"name\", \"address\", \"description\", \"inquieries\", \"imageName\"]\n",
    "\n",
    "    return temp_df.iloc[0].to_dict()\n",
    "\n",
    "# 저장된 모델 불러오기\n",
    "with open('./tfidf_vectorizer.pkl', 'rb') as f:\n",
    "    loaded_model = pickle.load(f)\n",
    "\n",
    "# 사용자가 입력한 문장\n",
    "input_sentence = \"경복궁 돼지국밥\"\n",
    "\n",
    "\n",
    "result_cosine_similarity = user_input_to_cosine_sim(loaded_model, input_sentence)\n",
    "top_index = np.argsort(result_cosine_similarity)[::-1]\n",
    "\n",
    "result_arr = []\n",
    "\n",
    "for row in top_index[:10]:\n",
    "    if result_cosine_similarity[row] <= 0 :\n",
    "        break\n",
    "    name = df.loc[row, '장소명']\n",
    "    result_arr.append(searchByName(name))"
   ]
  },
  {
   "cell_type": "code",
   "execution_count": 325,
   "metadata": {},
   "outputs": [
    {
     "data": {
      "text/plain": [
       "[{'name': '경복궁',\n",
       "  'address': '서울특별시 종로구 사직로 161',\n",
       "  'description': '경복궁은 1395년 태조 이성계에 의해서 새로운 조선왕조의 법궁으로 지어졌다. 경복궁은 동궐(창덕궁)이나 서궐(경희궁)에 비해 위치가 북쪽에 있어 ‘북궐’이라 불리기도 했다. 경복궁은 5대 궁궐 가운데 으뜸의 규모와 건축미를 자랑한다. 경복궁 근정전에서 즉위식을 가진 왕들을 보면 제2대 정종, 제4대 세종, 제6대 단종, 제7대 세조, 제9대 성종, 제11대 중종, 제13대 명종 등이다. 경복궁은 임진왜란 때 상당수의 건물이 불타 없어진 아픔을 갖고 있으며, 고종 때에 흥선대원군의 주도 아래 7,700여 칸에 이르는 건물들을 다시 세웠다. 그러나 또다시 명성황후 시해사건이 일어나면서 왕조의 몰락과 함께 경복궁도 왕궁으로서의 기능을 상실하고 말았다. 경복궁에는 조선시대의 대표적인 건축물인 경회루와 향원정의 연못이 원형대로 남아 있으며, 근정전의 월대와 조각상들은 당시의 조각미술을 대표한다. 현재 흥례문 밖 서편에는 국립고궁 박물관이 위치하고 있고, 경복궁 내 향원정의 동편에는 국립민속 박물관이 위치하고 있다.\\n\\n* 주요 문화재\\n1) 사적 경복궁\\n2) 국보 경복궁 근정전\\n3) 국보 경복궁 경회루\\n4) 보물 경복궁 자경전\\n5) 보물 경복궁 자경전 십장생 굴뚝\\n6) 보물 경복궁 아미산굴뚝\\n7) 보물 경복궁 근정문 및 행각\\n8) 보물 경복궁 풍기대',\n",
       "  'inquieries': '경복궁 관리소 02-3700-3900',\n",
       "  'imageName': 'https://cdn.visitkorea.or.kr/img/call?cmd=VIEW&id=f0415f1b-c707-4214-aa80-bed323a22c02'},\n",
       " {'name': '광화문국밥',\n",
       "  'address': '서울특별시 중구 세종대로21길 53',\n",
       "  'description': '지하철 3호선 광화문역 6번 출구에서 도보 5분 거리에 있는 국밥 전문점이다. 돼지국밥이 대표메뉴이다. 그 외에도 평양냉면, 돼지 수육, 피순대, 소 왕 갈비찜 등의 메뉴가 준비되어 있다. 미쉐린 가이드에 3년 연속 선정된 맛집이다. 매장 앞에 넓은 주차 공간이 있지만 매장과는 별도의 주차장이기 때문에 유료로 이용해야 한다. 식사 시간에는 웨이팅이 있다. 근처에 다양한 박물관과 미술관이 있어서 식사 전후에 둘러보기 좋다.',\n",
       "  'inquieries': '02-738-5688',\n",
       "  'imageName': 'https://cdn.visitkorea.or.kr/img/call?cmd=VIEW&id=fe20c06a-8132-4910-b45b-97fe7dd11639'},\n",
       " {'name': '고흥순대국머리고기 본점',\n",
       "  'address': '서울특별시 광진구 아차산로34길 26',\n",
       "  'description': '직접 손질한 국내산 생 돼지고기 순대국집이다. 건대입구역 5번출구에서 도보로 3분거리에 위치해있다. 순대국은 돈사골의 구수한 향이 나며 국물이 진하다. 당면순대와 야들야들하고 쫄깃한 머릿고기가 들어있고 잡내가 나지 않는다. 취향에 맞춰 들깨가루, 다대기를 넣어 먹을 수 있다. 파도 준비되어 있어 시원한 맛이 올라와 순대국과 설렁탕의 중간 느낌의 맛이 나기도 한다. 점심시간에는 인산인해를 이루는 인기좋은 순대국밥집으로 저녁에는 술 한잔 기울이기 좋은 수육과 순대도 있다.',\n",
       "  'inquieries': '02-497-7876',\n",
       "  'imageName': 'https://cdn.visitkorea.or.kr/img/call?cmd=VIEW&id=58659571-604d-43ed-b181-159c16c1173c'},\n",
       " {'name': '옥동식',\n",
       "  'address': '서울특별시 마포구 양화로7길 44-10 3차신도빌라',\n",
       "  'description': '합정역 2번 출구에서 도보 5분 정도 거리에 있는 돼지곰탕 전문점이다. 돼지곰탕이 대표 메뉴이며, 김치만두도 같이 판매한다. 일반적인 형태의 돼지국밥이 아닌 맑은 곰탕의 형태로 담백한 맛을 낸다. 내부에 자리가 10석밖에 없고 하루에 100그릇만 한정 판매한다. 주차 공간은 따로 없어 주변 건물에 주차해야 한다. 오후 3시부터 5시까지 브레이크 타임이다. 미쉐린 가이드 서울에서 선정한 맛집에 5년 연속으로 포함될 정도로 맛을 인정받고 유명하다. 주변에 서점과 북카페가 많고 놀거리가 많아 관광하기 좋다.',\n",
       "  'inquieries': '010-5571-9915',\n",
       "  'imageName': 'https://cdn.visitkorea.or.kr/img/call?cmd=VIEW&id=68976ec1-645e-40ba-80bc-c22c3ffaa38f'},\n",
       " {'name': '광화문',\n",
       "  'address': '서울특별시 종로구 사직로 161',\n",
       "  'description': '광화문은 경복궁의 남문이며, 궁성의 정문이다. 광화문은 국왕이 드나드는 정문이기도 했지만, 조선의 법궁인 경복궁의 정문이었기 때문에 다른 궁궐의 정문에 비해 그 규모와 격식 면에서도 매우 웅장하고 화려했다. 또한 광화문은 담장 끝 동쪽과 서쪽에 각각 동십자각과 서십자각을 두어 조선의 5대 궁궐 가운데 유일하게 궐문 형식을 갖추고 있기도 했다. 광화문은 중층으로 된 문루를 받치는 기단석축에 세 개의 홍예로 이루어져 있는데, 중앙의 홍예로는 왕이, 좌우의 홍예로는 왕세자와 신하들이 출입하도록 하였다. 문루(門樓)에는 종을 걸어 때를 알리는 데 사용하였다. 이처럼 경복궁이 조선왕조의 법궁이라는 점은 광화문을 비롯한 성문의 형태에서도 확인할 수 있다. 다른 궁의 문들은 낮은 단 위에 문을 세우지만 경복궁의 문은 돌로 높은 석축을 쌓고 중앙에 홍예문을 내서 마치 성곽의 문과 같은 모습을 취한다. 광화문은 그중에서도 홍예문을 셋이나 내서 가장 격식 높은 모습을 보여준다. 광화문이 법궁의 정문이라는 사실을 잘 드러내준다. 경복궁 창건 당시에는 특별한 이름이 없이 궁제에 따라 ‘오문(午門)’으로 부르다가, 태조 3년(1395) 정도전에 의해 ‘정문(正門)’으로 이름을 바꾸지만, 세종 8년(1426)에 경복궁을 수리하면서 집현전에서 ‘광화문(光化門)’이라 이름을 지어 올리면서 지금의 광화문이란 이름을 얻게 되었다.\\n\\n원래 광화문은 조선총독부 건물을 지으면서 궁성의 동문인 건춘문 북쪽으로 옮겼으나 한국전쟁 때 폭격을 맞아 문루가 부서지고 석축은 탄흔투성이가 되었다. 그런 가운데 광화문이 현재의 모습으로 재건된 것은 1968년 박정희 정권에 이르러서다. 파괴된 문루를 다시 짓고 광화문을 현재의 자리로 옮겨 놓았던 것이다. 그러나 새로 재건한 광화문은 철근 콘크리트로 지어졌으며, 재건 당시 광화문의 축을 경복궁의 중심축에 맞춘 것이 아니라 당시 중앙청으로 쓰이던 구 조선총독부 청사의 축에 맞추어, 그 결과 3.5도가량 본래의 축과 어긋나게 틀어지고 말았다. 그 뿐만 아니라 원래의 광화문 자리에서도 14.5미터가량 뒤로 물러나 지금의 자리에 서있게 되었다. 이렇게 원형을 잃어버린 광화문을 복원하고자 2006년부터 광화문 철거작업을 시작해 3년 8개월의 복원 공사를 마치고 2010년 8월 15일 완공되었다. 화강암으로 육중한 기단을 만들고 그 위에 이층의 문루를 얹어 멀리 조망하기 좋을 뿐 아니라 궁궐 정문으로서의 위엄을 나타내고 있다. 기단에 있는 3개의 아치형 출입문은 경복궁이 조선의 정궁이라는 위엄을 과시한다. 돌로 만든 기단 위에는 흙을 구워 벽돌처럼 만든 ‘전돌’로 나지막한 담을 둘렀는데, 여기를 장식한 팔괘 문양은 조선조 궁궐의 특성을 잘 반영하고 있다.',\n",
       "  'inquieries': '02-3700-3900',\n",
       "  'imageName': 'https://cdn.visitkorea.or.kr/img/call?cmd=VIEW&id=76d8caa1-6873-48ff-aaa2-42ba616ab36b'},\n",
       " {'name': '건청궁',\n",
       "  'address': '서울특별시 종로구 사직로 161',\n",
       "  'description': '건청궁은 경복궁 내 가장 깊숙한 곳에 자리한 궁궐로 1,873년(고종 10)에 지어졌다. 이곳은 명성황후가 일본인들에게 무참히 시해된 곳이다. 청일전쟁이 끝난 후 명성황후가 일본 세력을 배척하자 일본공사 미우라가 주동이 되어 고종 32년 (1895) 10월 8일(음력 8월 20일) 일본인들이 경복궁에 침입하여 많은 상궁과 명성황후를 시해하였다. 이 사건을 을미사변이라 한다.\\n\\n또한 건청궁은 우리나라 최초로 전깃불을 사용하여 어두운 밤을 밝혔던 곳이다. 우리나라 최초의 미국 유학생 유길준이 조선으로 돌아와 고종 임금에게 어두운 밤을 대낮같이 밝게 해주는 전구를 알려주고, 고종은 미국의 에디슨 전기회사에 전기공사를 맡겨 건청궁 앞에 있는 연못(향원지)의 물을 끌어들여 전기를 만드는 발전소를 지었다. 경복궁에 전깃불이 들어온 것은 우리나라에서 전기 사용의 최초이며 일본과 중국보다도 2년 정도 빠른 것으로, 이러한 사실을 알려주기 위해 ‘한국의 전기발상지’ 글로 새긴 돌이 건청궁에 있다.\\n\\n(출처 : 경복궁관리소 홈페이지 안내글 인용)',\n",
       "  'inquieries': '02-3700-3900',\n",
       "  'imageName': 'https://cdn.visitkorea.or.kr/img/call?cmd=VIEW&id=3c8efc26-c036-4403-8f2e-10527f8fc9ee'},\n",
       " {'name': '청자모텔',\n",
       "  'address': '서울특별시 서대문구 통일로37나길 21',\n",
       "  'description': '서울 서대문구의 청자모텔은 지하철 3호선 홍제역에서 도보 5분거리, 경복궁에서 3정거장, 공항버스 승하차장이 3분거리에 있어 대중교통을 이용하는 관광객들에게 인기가 좋다. 특히 깨끗함을 자랑하는 청자모텔은 홍제역에서 가까이 있지만 주택가 안쪽에 있어 조용하고 아늑함과 편안함도 안겨준다. 주변 관광지로는 독립문, 경복궁, 창경궁, 북악산 등이 있고 바로 앞에 있는 홍제 재래시장의 새로운 경험도 여행의 즐거움을 더해줄 것이다.',\n",
       "  'inquieries': '02-395-8110',\n",
       "  'imageName': 'https://cdn.visitkorea.or.kr/img/call?cmd=VIEW&id=48e2bad0-7a73-4200-9b69-6bae5efa6175'},\n",
       " {'name': '하은재 [한국관광 품질인증/Korea Quality]',\n",
       "  'address': '서울특별시 종로구 자하문로 68-10',\n",
       "  'description': '하은재는 서울 경복궁 서쪽 서촌에 위치한 독채 한옥스테이로, 영화와 쉼을 추구한다. 숙소는 퀸사이즈 침대가 있는 침실, 주방, 영화실, 화장실 2개로 구성되어 있다. 영화실에는 ‘보스’ 스피커와 빔프로젝터, 스크린이 있다. 이동 가능한 족욕기는 보너스다. 주방에서 간단한 조리도 가능하다. 주중 2박 이상 숙박 시 숙박비를 10% 할인해주고, 3박 이상 숙박 시 수건교체와 청소서비스를 제공한다. 경복궁, 삼청동 등 주요 관광지가 가깝다.',\n",
       "  'inquieries': '0504-0904-2414',\n",
       "  'imageName': 'https://cdn.visitkorea.or.kr/img/call?cmd=VIEW&id=8f9c3691-8190-4be0-8b33-92009a0f16f4'},\n",
       " {'name': '널담은공간',\n",
       "  'address': '서울특별시 종로구 삼청로 24',\n",
       "  'description': '널담은공간은 건물 외관은 깔끔한 화이트톤에 햇살이 잘 들어오는 경복궁 뷰를 볼 수 있는 카페다. 비건 음료와 비건 디저트를 맛볼 수 있으며 엽서를 쓰는 이색 체험도 할 수 있다. 공간 한편에 가로로 31칸, 세로로 12칸, 365개의 편지함이 마련되어 있다. 편지 세트를 사서 실링을 한 뒤 1년 뒤, 받고 싶은 날짜 3-4일 전으로 넣어두면 원하는 날에 받을 수 있다. 1년 뒤의 나, 친구, 가족, 연인에게 보내는 느린 엽서로 특별한 추억을 쌓을 수 있다. 시그니처 음료는 아몬드 크림 라떼로 우유 대신 오트사이드가 들어있다. 이외 다양한 음료가 준비되어 있다.',\n",
       "  'inquieries': '1533-7941',\n",
       "  'imageName': 'https://cdn.visitkorea.or.kr/img/call?cmd=VIEW&id=8bbef3dc-f4bb-4468-aebc-d9545c0862a9'},\n",
       " {'name': '열린송현녹지광장',\n",
       "  'address': '서울특별시 종로구 송현동',\n",
       "  'description': '열린송현 녹지광장은 종로구 송현동 부지에 있는 공간으로, 경복궁과 종로 사이에 위치하고 있는 광장이다. 송현동 부지는 일제강점기 식산은행 사택, 해방 후 미군 숙소, 미대사관 숙소 등으로 활용되어 오다가 1997년 우리 정부에 반환되었다. 하지만 이후 별다른 쓰임 없이 폐허로 방치되어 높은 벽에 둘러싸여 있었다. 2022년 7월 한국주택공사로 소유권이 넘어오고 서울시로 다시 소유권이 넘어가면서 [쉼과 문화가 있는 열린송현 녹지광장]으로 단장하고 시민에게 개방되었다.\\n높이 4m 담장에 둘러싸여 오랜 기간 닫혀있던 공간은 돌담을 낮추고 야생화로 어우러진 녹지로 조성하였다. 이로 인해 율곡로, 감고당길에서 드넓은 녹지광장을 한눈에 담을 수 있다. 돌담장 안으로 들어가면 광장 중앙에 서울광장 잔디보다 넓은 중앙잔디광장이 펼쳐진다. 광장 주변으로는 코스모스, 백일홍과 같은 야생화 군락지가 조성되어 있다. 경복궁과 북촌은 송현동 부지가 열리면서 광장 내부로 난 지름길로 연결된다. 광장을 가로지르며 걷다 보면 청와대, 광화문광장, 인사동 그리고 북촌 골목길로 자연스레 이어진다.',\n",
       "  'inquieries': '02-120',\n",
       "  'imageName': 'https://cdn.visitkorea.or.kr/img/call?cmd=VIEW&id=4800ede9-18df-4e4c-a243-31b06480f7bf'}]"
      ]
     },
     "execution_count": 325,
     "metadata": {},
     "output_type": "execute_result"
    }
   ],
   "source": [
    "result_arr"
   ]
  },
  {
   "cell_type": "code",
   "execution_count": 318,
   "metadata": {},
   "outputs": [],
   "source": [
    "# df의 모든 정보를 return\n",
    "def find_all_info() :\n",
    "    find_df = pd.read_csv(\"./data/구석구석_서울_크롤링_imageurl.csv\")\n",
    "    json_col = [\"장소명\", \"주소\", \"상세설명\", \"문의 및 안내\", \"사진주소\"]\n",
    "\n",
    "    temp_df = find_df.loc[:, json_col].fillna(\"정보 없음\")\n",
    "    temp_df.columns = [\"name\", \"address\", \"description\", \"inquiries\", \"imageName\"]\n",
    "\n",
    "    result_arr = []\n",
    "    for i in range(len(temp_df)) :\n",
    "        result_arr.append(temp_df.iloc[i,:].to_dict())\n",
    "\n",
    "    return result_arr"
   ]
  },
  {
   "cell_type": "markdown",
   "metadata": {},
   "source": [
    "----"
   ]
  },
  {
   "cell_type": "code",
   "execution_count": 308,
   "metadata": {},
   "outputs": [
    {
     "name": "stdout",
     "output_type": "stream",
     "text": [
      "4\n"
     ]
    }
   ],
   "source": [
    "count = 0\n",
    "while True :\n",
    "    result_bool = (result_cosine_similarity[top_index] > 0)[count]\n",
    "    if ~result_bool :\n",
    "        break\n",
    "    count += 1\n",
    "print(count)"
   ]
  },
  {
   "cell_type": "code",
   "execution_count": 309,
   "metadata": {},
   "outputs": [
    {
     "data": {
      "text/plain": [
       "array([0.18908819, 0.14475038, 0.14055615, 0.13305637])"
      ]
     },
     "execution_count": 309,
     "metadata": {},
     "output_type": "execute_result"
    }
   ],
   "source": [
    "result_cosine_similarity[top_index[:4]]"
   ]
  },
  {
   "cell_type": "code",
   "execution_count": 12,
   "metadata": {},
   "outputs": [
    {
     "data": {
      "text/plain": [
       "[{'name': '라온석갈비',\n",
       "  'address': '서울특별시 성동구 성수이로 119',\n",
       "  'description': '오랫동안 석갈비에 노하우를 담아 온 라온 석갈비는 1, 2차 저온 양념숙성으로 부드러운 육질과 수제소스 진한 양념맛의 직화갈비가 유명한 곳이다. 석갈비는 평일 점심에만 먹을 수 있다. 라온 석갈비의 새로운 메뉴인 꽃갈비와 양념갈비는 가장 좋은 부위를 선별하여 직접 손질하고 숙성시켜 육즙이 풍부하다. 이외에도 한우꽃등심, 한돈양념갈비, 모듬수육, 통낙지볶음 등의 메뉴도 있다.',\n",
       "  'inquieries': '0507-1438-1616',\n",
       "  'imageName': 'https://cdn.visitkorea.or.kr/img/call?cmd=VIEW&id=e59d2541-4113-4800-83ff-0f697d292035'},\n",
       " {'name': '노란상 소갈비 본점',\n",
       "  'address': '서울특별시 강남구 선릉로131길 22',\n",
       "  'description': '강남구청역 3번출구 인근에 위치한 노란상소갈비 본점은 소갈비 전문점이다. 대표메뉴는 소금베이스의 양념으로 담백함과 은은한 단맛이 일품인 정갈비이다. 갈비의 가장 좋은 6, 7, 8번 만을 선별하여 수제로 칼집을 넣은 생갈비, 전통적인 양념갈비인 이동갈비, 당일 준비된 수량에 한하여 판매하는 토시살 등도 있다.',\n",
       "  'inquieries': '02-543-9290',\n",
       "  'imageName': 'https://cdn.visitkorea.or.kr/img/call?cmd=VIEW&id=94bed454-3e4e-4453-8329-85e3cf6746ce'},\n",
       " {'name': '홍능갈비집본점',\n",
       "  'address': '서울특별시 동대문구 제기로 85',\n",
       "  'description': '갈비명가 흥능갈비집 본점은 서울특별시 동대문구 청량리동에 있다. 대중교통을 이용할 경우 6호선 고려대역 4번 출구와 가장 가깝다. 60년에 가까운 전통 맛집답게 요즘은 볼 수 없는 네온사인 간판이 입구에 설치돼 있다. 대표 메뉴는 숯불에 구워 먹는 한우 생갈비지만 양념갈비나 불고기도 인기다. 직원이 직접 구워주고 손질해 주기 때문에 타지 않은 상태의 가장 맛있는 고기를 맛볼 수 있다. 공깃밥을 시키면 된장찌개가 함께 나오고 냉면도 많이 찾는 인기 메뉴다. 단체석이 있어 가족모임이나 회식에도 좋다. 가까운 곳에 청량리 통닭 골목과 경동시장 청년몰이 있어 연계 관광도 가능하다.',\n",
       "  'inquieries': '02-966-0420',\n",
       "  'imageName': 'https://cdn.visitkorea.or.kr/img/call?cmd=VIEW&id=a9d45ea2-dac9-4799-83a8-8741957802df'},\n",
       " {'name': '한옥갈비',\n",
       "  'address': '서울특별시 종로구 종로40가길 20 (종로5가)',\n",
       "  'description': '한옥갈비는 동대문 닭한마리 먹자골목 내에 자리하고 있는 소갈비 구이 전문 고깃집이다. 종로5가역(1호선)과 동대문역(4호선), 종로6가 종합시장 근처에 위치해 있어 접근성이 좋다. 양념소갈비와 돼지왕갈비, 꽃등심 등 소갈비메뉴 뿐만 아니라 생삼겹살, 쌈밥, 돌솥비빔밥 등 각종 고기구이류와 식사류가 준비되어 있다. 매장 내부는 규모가 크고 인테리어가 깔끔해서 단체 모임 식사나 회식 장소로도 제격이다. 밑반찬은 테이블이 가득 찰 정도로 푸짐하게 올라오는데, 그 맛이 자극적이지 않아 고기와 곁들여 먹기 좋다.',\n",
       "  'inquieries': '02-2263-7731',\n",
       "  'imageName': 'https://cdn.visitkorea.or.kr/img/call?cmd=VIEW&id=44b265f1-cff6-4a92-bc98-6079c1863f79'},\n",
       " {'name': '벙구갈비 응암점',\n",
       "  'address': '서울특별시 은평구 응암로 269',\n",
       "  'description': '벙구갈비 응암점은 지하철 6호선 응암역 4번 출구 은명초등학교 부근에 있다. 매장 건물 뒤편에 주차장(6~7대 가능)이 있으나 매우 협소하다. 방문 시 대중교통을 이용하는 게 편리하다. 이곳은 전통 수제 숙성 갈비 전문점으로 유명하다. 대표 메뉴는 수제갈비, 수제그린포크, 수제 생갈비, 수제숙성 소갈비다. 그 외 점심 특선으로 쌈밥과 물냉면, 비빔냉면 등이 잘 나간다. 주변에 봉산, 인왕산, 북한산이 있어 등산 코스와 연계하기 좋다.',\n",
       "  'inquieries': '02-352-5092',\n",
       "  'imageName': 'https://cdn.visitkorea.or.kr/img/call?cmd=VIEW&id=f994b4d4-3990-46cc-a55a-fa9685e47a18'},\n",
       " {'name': '마포왕갈비',\n",
       "  'address': '서울특별시 마포구 토정로 315',\n",
       "  'description': '30여 년 전통의 마포구 용강동에 자리 잡은 갈비전문점이다. 마장동 우시장에서 사입한 A++ 등급 한우 생등심과 가격이 저렴하고 갖은양념으로 최고의 맛과 푸짐함을 자랑하는 미국산 왕갈비로 다양한 메뉴를 즐길 수 있다. 전통한옥을 콘셉트로 한 인테리어와 연기가 나지 않는 팬이 달린 특별 주문한 화로에서 숯으로 고기를 굽는다. 그리고 점심 식사로 갈비가 푸짐하게 들어간 갈비탕 또한 맛이 좋아 사랑받고 있다. 회식이나 각종 모임 하기에 좋은 다양한 룸이 준비되어 있다.',\n",
       "  'inquieries': '0507-1396-8007',\n",
       "  'imageName': 'https://cdn.visitkorea.or.kr/img/call?cmd=VIEW&id=e09806fd-83e7-40ea-87ba-9a73b4f44217'},\n",
       " {'name': '화춘옥 청담점',\n",
       "  'address': '서울특별시 강남구 도산대로50길 15',\n",
       "  'description': '1945년 개업한 대한민국 최초의 원조수원갈비 화춘옥이다. 수원식 양념갈비의 시작은 화춘옥에서 시작되어 수원뿐 아니라 전국 각지의 갈비 조리법에 영향을 끼쳐 갈비의 대중화에 선구적 역할을 했다. 화춘옥의 양념갈비는 최상급의 소갈비를 간장이 아닌 소금과 참기름을 베이스로 양념해 담백하고 자극적이지 않아 부담없이 먹기 좋다. 화춘옥 청담은 1,2층으로 나뉘어 프라이빗한 룸과 편안하게 식사하실 수 있는 홀까지 다양하게 좌석이 구비되어 있다.',\n",
       "  'inquieries': '02-511-1945',\n",
       "  'imageName': 'https://cdn.visitkorea.or.kr/img/call?cmd=VIEW&id=fdae20ff-63f6-4357-8e34-97b8e332a43e'},\n",
       " {'name': '갈비명가이상 돈암본관',\n",
       "  'address': '서울특별시 성북구 정릉로 364',\n",
       "  'description': '갈비명가이상 돈암본관은 4호선 길음역 3번 출구 인근에 있다. 주차장은 본관 뒤편에 있고 주차요원이 있어 안내받을 수 있다. 이곳은 모든 메뉴가 포장이 가능하며 홀 내부에서는 로봇이 서빙해준다. 이 식당에서는 1인 1병 생수를 제공한다. 밑반찬은 샐러드, 간장 새우, 양파절임 등 7개 기본 반찬이 제공된다. 식당의 대표 메뉴는 이상 눈꽃 생갈비, 이상 눈꽃 양념갈비, 이동갈비다. 점심특선 메뉴는 구이류로 4가지 정식이 있다. 식사류는 떡갈비, 갈비탕, 소고기국밥 등 9개 품목이 있다. 후식은 과일 1종류가 나온다. 식당 인근에는 개운산공원과 쇼핑타운이 있어 관광 연계가 가능하다.\\n※ 반려동물 동반 불가',\n",
       "  'inquieries': '02-925-8700',\n",
       "  'imageName': 'https://cdn.visitkorea.or.kr/img/call?cmd=VIEW&id=c4fa47fe-106b-45f4-a7e2-410942e43323'},\n",
       " {'name': '흥부골숯불돼지왕갈비',\n",
       "  'address': '서울특별시 송파구 백제고분로33길 35',\n",
       "  'description': '흥부골숯불돼지왕갈비 식당은 석촌동 나인파크 골목 석촌호수 서호 뒤편에 위치해 있다. 매장은 넓은 편이고, 날씨가 좋으면 창가 테라스 창을 다 열어 놓아 야외 분위기를 느낄 수 있어 좋다. 이곳의 대표메뉴는 돼지왕갈비로, 음식을 주문하면 밑반찬으로 물김치, 순두부, 양파지, 게장, 계란찜 등이 차려진다. 고기를 구울 때 숯불을 사용하고, 직원이 구워주기 때문에 편하게 식사를 할 수 있다. 숯불돼지왕갈비 외에도 점심메뉴로 갈비곰탕과 육개장, 설렁탕, 냉면 등이 있다.',\n",
       "  'inquieries': '02-418-0003',\n",
       "  'imageName': 'https://cdn.visitkorea.or.kr/img/call?cmd=VIEW&id=900c7c57-d4cd-4a23-8eaa-dc1a10d62449'},\n",
       " {'name': '갈비사랑',\n",
       "  'address': '서울특별시 서초구 강남대로 204 갈비사랑',\n",
       "  'description': '갈비사랑은 지하철 3호선, 신분당선 양재역 8번 출구 서울행정법원 부근에 있다. 매장 단독 건물이고 자체 주차장을 갖추고 있으며 발렛파킹 서비스를 이용할 수 있다. 이곳은 양재역에서 25년간 영업해온 갈빗집으로 방송사 TV 맛집 프로그램에 소개된 바 있다. 내부는 넓은 홀에 다양한 테이블에 개별 룸까지 갖추고 있어 단체 행사나 가족 모임에도 적당하다. 대표 메뉴로는 양념갈비, 우대 갈비, 생갈비, 생등심이 있다. 그 외 점심 특선으로 매운 갈비찜 정식, 한우 불고기 정식, 사랑 정식 등이 있다. 주변에 말죽거리 공원이 있어 식사 전후에 둘러보기 좋다.',\n",
       "  'inquieries': '02-3463-6800',\n",
       "  'imageName': 'https://cdn.visitkorea.or.kr/img/call?cmd=VIEW&id=07a0ce15-0d38-4a5c-9a7f-034a0e0eb0d1'}]"
      ]
     },
     "execution_count": 12,
     "metadata": {},
     "output_type": "execute_result"
    }
   ],
   "source": [
    "result_arr"
   ]
  },
  {
   "cell_type": "code",
   "execution_count": 88,
   "metadata": {},
   "outputs": [],
   "source": [
    "cosine_result = cosine_similarity(tfidf_matrix, tfidf_matrix)"
   ]
  },
  {
   "cell_type": "code",
   "execution_count": 127,
   "metadata": {},
   "outputs": [],
   "source": [
    "search_index = df[df.장소명 == \"호원아트홀\"].index[0]"
   ]
  },
  {
   "cell_type": "code",
   "execution_count": 128,
   "metadata": {},
   "outputs": [],
   "source": [
    "result_idx = np.argsort(cosine_result[search_index])[::-1]"
   ]
  },
  {
   "cell_type": "code",
   "execution_count": 129,
   "metadata": {},
   "outputs": [
    {
     "data": {
      "text/html": [
       "<div>\n",
       "<style scoped>\n",
       "    .dataframe tbody tr th:only-of-type {\n",
       "        vertical-align: middle;\n",
       "    }\n",
       "\n",
       "    .dataframe tbody tr th {\n",
       "        vertical-align: top;\n",
       "    }\n",
       "\n",
       "    .dataframe thead th {\n",
       "        text-align: right;\n",
       "    }\n",
       "</style>\n",
       "<table border=\"1\" class=\"dataframe\">\n",
       "  <thead>\n",
       "    <tr style=\"text-align: right;\">\n",
       "      <th></th>\n",
       "      <th>장소명</th>\n",
       "      <th>정보</th>\n",
       "    </tr>\n",
       "  </thead>\n",
       "  <tbody>\n",
       "    <tr>\n",
       "      <th>2300</th>\n",
       "      <td>호원아트홀</td>\n",
       "      <td>호원아트홀 아트 홀 호원대학교 취업 지원 센터 건물 위치 공연장 이다 극장 극장 스...</td>\n",
       "    </tr>\n",
       "    <tr>\n",
       "      <th>2462</th>\n",
       "      <td>아트센터 K</td>\n",
       "      <td>아트센터 K 아트 센터 형식 가치 차별 공연 예술 프로그램 소개 전문 공연장 이다 ...</td>\n",
       "    </tr>\n",
       "    <tr>\n",
       "      <th>3470</th>\n",
       "      <td>강동아트센터</td>\n",
       "      <td>강동아트센터 강동아트센터 강동구 명일 근 공원 위치 전문 공연장 자연 공원 문화 공...</td>\n",
       "    </tr>\n",
       "    <tr>\n",
       "      <th>2864</th>\n",
       "      <td>드림아트센터</td>\n",
       "      <td>드림아트센터 드림 아트 센터 꿈 예술 공간 신축 뮤지컬 연극 공연장 구비 극장 특유...</td>\n",
       "    </tr>\n",
       "    <tr>\n",
       "      <th>3384</th>\n",
       "      <td>아트홀 봄</td>\n",
       "      <td>아트홀 봄 아트 홀 봄 개관 서울특별시 산하 여성 복합 시설 서울 여성 플라자 문화...</td>\n",
       "    </tr>\n",
       "    <tr>\n",
       "      <th>3383</th>\n",
       "      <td>남산예술센터</td>\n",
       "      <td>남산예술센터 2009년 9월 서울시 창작 공간 개관 남산 예술 센터 창작 초연 중심...</td>\n",
       "    </tr>\n",
       "  </tbody>\n",
       "</table>\n",
       "</div>"
      ],
      "text/plain": [
       "         장소명                                                 정보\n",
       "2300   호원아트홀  호원아트홀 아트 홀 호원대학교 취업 지원 센터 건물 위치 공연장 이다 극장 극장 스...\n",
       "2462  아트센터 K  아트센터 K 아트 센터 형식 가치 차별 공연 예술 프로그램 소개 전문 공연장 이다 ...\n",
       "3470  강동아트센터  강동아트센터 강동아트센터 강동구 명일 근 공원 위치 전문 공연장 자연 공원 문화 공...\n",
       "2864  드림아트센터  드림아트센터 드림 아트 센터 꿈 예술 공간 신축 뮤지컬 연극 공연장 구비 극장 특유...\n",
       "3384   아트홀 봄  아트홀 봄 아트 홀 봄 개관 서울특별시 산하 여성 복합 시설 서울 여성 플라자 문화...\n",
       "3383  남산예술센터  남산예술센터 2009년 9월 서울시 창작 공간 개관 남산 예술 센터 창작 초연 중심..."
      ]
     },
     "execution_count": 129,
     "metadata": {},
     "output_type": "execute_result"
    }
   ],
   "source": [
    "result_idx = result_idx[:6]\n",
    "\n",
    "df.loc[result_idx, ]"
   ]
  },
  {
   "cell_type": "code",
   "execution_count": 130,
   "metadata": {},
   "outputs": [
    {
     "data": {
      "text/plain": [
       "array([1.        , 0.32960281, 0.30770052, 0.29544794, 0.25174418,\n",
       "       0.24471321])"
      ]
     },
     "execution_count": 130,
     "metadata": {},
     "output_type": "execute_result"
    }
   ],
   "source": [
    "cosine_result[search_index][result_idx]"
   ]
  },
  {
   "cell_type": "code",
   "execution_count": 64,
   "metadata": {},
   "outputs": [
    {
     "data": {
      "image/png": "[encoded data removed]",
      "text/plain": [
       "<Figure size 640x480 with 1 Axes>"
      ]
     },
     "metadata": {},
     "output_type": "display_data"
    }
   ],
   "source": [
    "import matplotlib.pyplot as plt\n",
    "plt.plot(cosine_result[5])\n",
    "\n",
    "plt.show()"
   ]
  },
  {
   "cell_type": "code",
   "execution_count": 134,
   "metadata": {},
   "outputs": [
    {
     "data": {
      "text/plain": [
       "'친구네정육식당 보라매역 인근 위치 성비 고기 전문 정육 식당 맛집 고기 합리 가격 인분 제공 소문 인근 기업 회식 명소 각광 소 마리 돼지 마리 부위 선택 주문 판 가운데 된장찌개 파 채 양파 소스 마카로니 샐러드 기본 부족 반찬 관리 셀프 바 편리돼지 마리돼지 마리 소한 마리 삼겹살 외서울특별시 동작구 여의대방로 26 길'"
      ]
     },
     "execution_count": 134,
     "metadata": {},
     "output_type": "execute_result"
    }
   ],
   "source": [
    "df.정보[3]"
   ]
  },
  {
   "cell_type": "code",
   "execution_count": 260,
   "metadata": {},
   "outputs": [
    {
     "data": {
      "text/plain": [
       "'부암동 몽유도원 도이창은 서울특별시 종로구 부암동, 서울미술관 옆에 있는 카페이다. 매장은 단독 건물로 되어있고 자체 주차장을 갖고 있어 주차가 편리하다. 넓은 홀에 테이블 사이가 넓어 여유 있고 날씨가 좋은 날엔 야외 테이블이 인기다. 공정무역을 통한 커피만을 고집하며 사회적 가치를 실현하고 있다. 대표 메뉴로 스페셜티 커피 오리지널이 있고 그 외 에스프레소, 핸드드립, 빈, 티, 주스와 함께 다양한 케이크와 디저트가 많다. 주변에 유금와당박물관, 석파정 서울미술관 등 박물관과 미술관이 많아 방문 전후에 둘러보기 좋다.'"
      ]
     },
     "execution_count": 260,
     "metadata": {},
     "output_type": "execute_result"
    }
   ],
   "source": [
    "find_df = pd.read_csv(\"./data/구석구석 정제.csv\")\n",
    "sentence = find_df.description[1000]\n",
    "sentence"
   ]
  },
  {
   "cell_type": "code",
   "execution_count": 264,
   "metadata": {},
   "outputs": [],
   "source": [
    "one_stopword = []\n",
    "for idx in range(len(find_df)) :\n",
    "    sentence = find_df.description[idx]\n",
    "    for word in [i for i in ko.nouns(sentence) if i not in stop_word] :\n",
    "        if len(word) == 1 :\n",
    "            one_stopword.append(word)"
   ]
  },
  {
   "cell_type": "code",
   "execution_count": 268,
   "metadata": {},
   "outputs": [],
   "source": [
    "one_stopword = list(set(one_stopword))"
   ]
  },
  {
   "cell_type": "code",
   "execution_count": 274,
   "metadata": {},
   "outputs": [
    {
     "data": {
      "text/plain": [
       "['메뉴',\n",
       " '외부',\n",
       " '가공',\n",
       " '가공',\n",
       " '식자',\n",
       " '재가',\n",
       " '품질',\n",
       " '최고',\n",
       " '자재',\n",
       " '주방',\n",
       " '조리',\n",
       " '메뉴',\n",
       " '구성은',\n",
       " '고기',\n",
       " '피타',\n",
       " '형식',\n",
       " '전채',\n",
       " '요리',\n",
       " '중심',\n",
       " '메뉴',\n",
       " '구성',\n",
       " '전채',\n",
       " '요리',\n",
       " '부담',\n",
       " '편안',\n",
       " '요리',\n",
       " '위주',\n",
       " '서비스',\n",
       " '기존',\n",
       " '메인',\n",
       " '메뉴',\n",
       " '보조',\n",
       " '반찬',\n",
       " '개념',\n",
       " '반찬',\n",
       " '요리',\n",
       " '개념',\n",
       " '정성',\n",
       " '준비',\n",
       " '건강',\n",
       " '균형',\n",
       " '식단',\n",
       " '채소',\n",
       " '해산물',\n",
       " '고기',\n",
       " '중심',\n",
       " '구성',\n",
       " '재료',\n",
       " '천연',\n",
       " '양념',\n",
       " '제조',\n",
       " '자연',\n",
       " '친화',\n",
       " '소스',\n",
       " '요리',\n",
       " '조리',\n",
       " '고객',\n",
       " '건강',\n",
       " '생각',\n",
       " '서울시',\n",
       " '인증',\n",
       " '안심',\n",
       " '먹을거리',\n",
       " '자재',\n",
       " '사용',\n",
       " '고객',\n",
       " '단체',\n",
       " '연회장',\n",
       " '각종',\n",
       " '모임',\n",
       " '직장',\n",
       " '회식',\n",
       " '가족',\n",
       " '모임',\n",
       " '대형',\n",
       " '테이블',\n",
       " '구성']"
      ]
     },
     "execution_count": 274,
     "metadata": {},
     "output_type": "execute_result"
    }
   ],
   "source": [
    "[i for i in ko.nouns(sentence) if i not in stop_word + one_stopword]"
   ]
  },
  {
   "cell_type": "code",
   "execution_count": 269,
   "metadata": {},
   "outputs": [
    {
     "data": {
      "text/plain": [
       "['메뉴',\n",
       " '외부',\n",
       " '가공',\n",
       " '가공',\n",
       " '식자',\n",
       " '재가',\n",
       " '품질',\n",
       " '최고',\n",
       " '자재',\n",
       " '주방',\n",
       " '조리',\n",
       " '메뉴',\n",
       " '구성은',\n",
       " '고기',\n",
       " '전',\n",
       " '피타',\n",
       " '이',\n",
       " '형식',\n",
       " '전채',\n",
       " '요리',\n",
       " '중심',\n",
       " '메뉴',\n",
       " '구성',\n",
       " '전채',\n",
       " '요리',\n",
       " '위',\n",
       " '부담',\n",
       " '편안',\n",
       " '수',\n",
       " '요리',\n",
       " '위주',\n",
       " '서비스',\n",
       " '기존',\n",
       " '메인',\n",
       " '메뉴',\n",
       " '보조',\n",
       " '반찬',\n",
       " '개념',\n",
       " '반찬',\n",
       " '요리',\n",
       " '개념',\n",
       " '정성',\n",
       " '준비',\n",
       " '건강',\n",
       " '균형',\n",
       " '식단',\n",
       " '채소',\n",
       " '해산물',\n",
       " '고기',\n",
       " '중심',\n",
       " '구성',\n",
       " '재료',\n",
       " '천연',\n",
       " '양념',\n",
       " '제조',\n",
       " '자연',\n",
       " '친화',\n",
       " '소스',\n",
       " '요리',\n",
       " '조리',\n",
       " '고객',\n",
       " '건강',\n",
       " '생각',\n",
       " '서울시',\n",
       " '인증',\n",
       " '안심',\n",
       " '먹을거리',\n",
       " '자재',\n",
       " '사용',\n",
       " '고객',\n",
       " '석',\n",
       " '단체',\n",
       " '연회장',\n",
       " '룸',\n",
       " '각종',\n",
       " '모임',\n",
       " '직장',\n",
       " '회식',\n",
       " '가족',\n",
       " '모임',\n",
       " '수',\n",
       " '대형',\n",
       " '석',\n",
       " '석',\n",
       " '테이블',\n",
       " '룸',\n",
       " '구성']"
      ]
     },
     "execution_count": 269,
     "metadata": {},
     "output_type": "execute_result"
    }
   ],
   "source": [
    "[i for i in ko.nouns(sentence) if i not in one_stopword]"
   ]
  }
 ],
 "metadata": {
  "kernelspec": {
   "display_name": "base",
   "language": "python",
   "name": "python3"
  },
  "language_info": {
   "codemirror_mode": {
    "name": "ipython",
    "version": 3
   },
   "file_extension": ".py",
   "mimetype": "text/x-python",
   "name": "python",
   "nbconvert_exporter": "python",
   "pygments_lexer": "ipython3",
   "version": "3.11.7"
  }
 },
 "nbformat": 4,
 "nbformat_minor": 2
}
